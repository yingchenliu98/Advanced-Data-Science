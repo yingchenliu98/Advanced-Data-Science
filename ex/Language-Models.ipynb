{
  "nbformat": 4,
  "nbformat_minor": 0,
  "metadata": {
    "accelerator": "GPU",
    "colab": {
      "name": "exercise_4.ipynb",
      "provenance": [],
      "collapsed_sections": [],
      "machine_shape": "hm"
    },
    "kernelspec": {
      "display_name": "Python 3",
      "language": "python",
      "name": "python3"
    },
    "language_info": {
      "codemirror_mode": {
        "name": "ipython",
        "version": 3
      },
      "file_extension": ".py",
      "mimetype": "text/x-python",
      "name": "python",
      "nbconvert_exporter": "python",
      "pygments_lexer": "ipython3",
      "version": "3.8.3"
    },
    "widgets": {
      "application/vnd.jupyter.widget-state+json": {
        "4981e4c68d384183963f082614c85384": {
          "model_module": "@jupyter-widgets/controls",
          "model_name": "HBoxModel",
          "model_module_version": "1.5.0",
          "state": {
            "_view_name": "HBoxView",
            "_dom_classes": [],
            "_model_name": "HBoxModel",
            "_view_module": "@jupyter-widgets/controls",
            "_model_module_version": "1.5.0",
            "_view_count": null,
            "_view_module_version": "1.5.0",
            "box_style": "",
            "layout": "IPY_MODEL_82cc15a933d040989f9300ce735dbfe8",
            "_model_module": "@jupyter-widgets/controls",
            "children": [
              "IPY_MODEL_0925b58f3425410385d4a8ae575c3b6a",
              "IPY_MODEL_88f41991caa249abb980de229898c7b5",
              "IPY_MODEL_d9c94b8bd0f74274b1f531cc1d552a8a"
            ]
          }
        },
        "82cc15a933d040989f9300ce735dbfe8": {
          "model_module": "@jupyter-widgets/base",
          "model_name": "LayoutModel",
          "model_module_version": "1.2.0",
          "state": {
            "_view_name": "LayoutView",
            "grid_template_rows": null,
            "right": null,
            "justify_content": null,
            "_view_module": "@jupyter-widgets/base",
            "overflow": null,
            "_model_module_version": "1.2.0",
            "_view_count": null,
            "flex_flow": null,
            "width": null,
            "min_width": null,
            "border": null,
            "align_items": null,
            "bottom": null,
            "_model_module": "@jupyter-widgets/base",
            "top": null,
            "grid_column": null,
            "overflow_y": null,
            "overflow_x": null,
            "grid_auto_flow": null,
            "grid_area": null,
            "grid_template_columns": null,
            "flex": null,
            "_model_name": "LayoutModel",
            "justify_items": null,
            "grid_row": null,
            "max_height": null,
            "align_content": null,
            "visibility": null,
            "align_self": null,
            "height": null,
            "min_height": null,
            "padding": null,
            "grid_auto_rows": null,
            "grid_gap": null,
            "max_width": null,
            "order": null,
            "_view_module_version": "1.2.0",
            "grid_template_areas": null,
            "object_position": null,
            "object_fit": null,
            "grid_auto_columns": null,
            "margin": null,
            "display": null,
            "left": null
          }
        },
        "0925b58f3425410385d4a8ae575c3b6a": {
          "model_module": "@jupyter-widgets/controls",
          "model_name": "HTMLModel",
          "model_module_version": "1.5.0",
          "state": {
            "_view_name": "HTMLView",
            "style": "IPY_MODEL_c7d485022e084a4aabf530f179205321",
            "_dom_classes": [],
            "description": "",
            "_model_name": "HTMLModel",
            "placeholder": "​",
            "_view_module": "@jupyter-widgets/controls",
            "_model_module_version": "1.5.0",
            "value": "Downloading: 100%",
            "_view_count": null,
            "_view_module_version": "1.5.0",
            "description_tooltip": null,
            "_model_module": "@jupyter-widgets/controls",
            "layout": "IPY_MODEL_517f7dac67a24e429ee48c373a4cede5"
          }
        },
        "88f41991caa249abb980de229898c7b5": {
          "model_module": "@jupyter-widgets/controls",
          "model_name": "FloatProgressModel",
          "model_module_version": "1.5.0",
          "state": {
            "_view_name": "ProgressView",
            "style": "IPY_MODEL_78cbe12219ca4cca82eec7d442abff23",
            "_dom_classes": [],
            "description": "",
            "_model_name": "FloatProgressModel",
            "bar_style": "success",
            "max": 231508,
            "_view_module": "@jupyter-widgets/controls",
            "_model_module_version": "1.5.0",
            "value": 231508,
            "_view_count": null,
            "_view_module_version": "1.5.0",
            "orientation": "horizontal",
            "min": 0,
            "description_tooltip": null,
            "_model_module": "@jupyter-widgets/controls",
            "layout": "IPY_MODEL_3d2bf8928d964b62a6cfc5a8ed4d79d4"
          }
        },
        "d9c94b8bd0f74274b1f531cc1d552a8a": {
          "model_module": "@jupyter-widgets/controls",
          "model_name": "HTMLModel",
          "model_module_version": "1.5.0",
          "state": {
            "_view_name": "HTMLView",
            "style": "IPY_MODEL_f460a2b303e24d9b97a669f6b5fd15f9",
            "_dom_classes": [],
            "description": "",
            "_model_name": "HTMLModel",
            "placeholder": "​",
            "_view_module": "@jupyter-widgets/controls",
            "_model_module_version": "1.5.0",
            "value": " 226k/226k [00:00&lt;00:00, 2.33MB/s]",
            "_view_count": null,
            "_view_module_version": "1.5.0",
            "description_tooltip": null,
            "_model_module": "@jupyter-widgets/controls",
            "layout": "IPY_MODEL_4a312b226d3247bab8f7b80fe198fe82"
          }
        },
        "c7d485022e084a4aabf530f179205321": {
          "model_module": "@jupyter-widgets/controls",
          "model_name": "DescriptionStyleModel",
          "model_module_version": "1.5.0",
          "state": {
            "_view_name": "StyleView",
            "_model_name": "DescriptionStyleModel",
            "description_width": "",
            "_view_module": "@jupyter-widgets/base",
            "_model_module_version": "1.5.0",
            "_view_count": null,
            "_view_module_version": "1.2.0",
            "_model_module": "@jupyter-widgets/controls"
          }
        },
        "517f7dac67a24e429ee48c373a4cede5": {
          "model_module": "@jupyter-widgets/base",
          "model_name": "LayoutModel",
          "model_module_version": "1.2.0",
          "state": {
            "_view_name": "LayoutView",
            "grid_template_rows": null,
            "right": null,
            "justify_content": null,
            "_view_module": "@jupyter-widgets/base",
            "overflow": null,
            "_model_module_version": "1.2.0",
            "_view_count": null,
            "flex_flow": null,
            "width": null,
            "min_width": null,
            "border": null,
            "align_items": null,
            "bottom": null,
            "_model_module": "@jupyter-widgets/base",
            "top": null,
            "grid_column": null,
            "overflow_y": null,
            "overflow_x": null,
            "grid_auto_flow": null,
            "grid_area": null,
            "grid_template_columns": null,
            "flex": null,
            "_model_name": "LayoutModel",
            "justify_items": null,
            "grid_row": null,
            "max_height": null,
            "align_content": null,
            "visibility": null,
            "align_self": null,
            "height": null,
            "min_height": null,
            "padding": null,
            "grid_auto_rows": null,
            "grid_gap": null,
            "max_width": null,
            "order": null,
            "_view_module_version": "1.2.0",
            "grid_template_areas": null,
            "object_position": null,
            "object_fit": null,
            "grid_auto_columns": null,
            "margin": null,
            "display": null,
            "left": null
          }
        },
        "78cbe12219ca4cca82eec7d442abff23": {
          "model_module": "@jupyter-widgets/controls",
          "model_name": "ProgressStyleModel",
          "model_module_version": "1.5.0",
          "state": {
            "_view_name": "StyleView",
            "_model_name": "ProgressStyleModel",
            "description_width": "",
            "_view_module": "@jupyter-widgets/base",
            "_model_module_version": "1.5.0",
            "_view_count": null,
            "_view_module_version": "1.2.0",
            "bar_color": null,
            "_model_module": "@jupyter-widgets/controls"
          }
        },
        "3d2bf8928d964b62a6cfc5a8ed4d79d4": {
          "model_module": "@jupyter-widgets/base",
          "model_name": "LayoutModel",
          "model_module_version": "1.2.0",
          "state": {
            "_view_name": "LayoutView",
            "grid_template_rows": null,
            "right": null,
            "justify_content": null,
            "_view_module": "@jupyter-widgets/base",
            "overflow": null,
            "_model_module_version": "1.2.0",
            "_view_count": null,
            "flex_flow": null,
            "width": null,
            "min_width": null,
            "border": null,
            "align_items": null,
            "bottom": null,
            "_model_module": "@jupyter-widgets/base",
            "top": null,
            "grid_column": null,
            "overflow_y": null,
            "overflow_x": null,
            "grid_auto_flow": null,
            "grid_area": null,
            "grid_template_columns": null,
            "flex": null,
            "_model_name": "LayoutModel",
            "justify_items": null,
            "grid_row": null,
            "max_height": null,
            "align_content": null,
            "visibility": null,
            "align_self": null,
            "height": null,
            "min_height": null,
            "padding": null,
            "grid_auto_rows": null,
            "grid_gap": null,
            "max_width": null,
            "order": null,
            "_view_module_version": "1.2.0",
            "grid_template_areas": null,
            "object_position": null,
            "object_fit": null,
            "grid_auto_columns": null,
            "margin": null,
            "display": null,
            "left": null
          }
        },
        "f460a2b303e24d9b97a669f6b5fd15f9": {
          "model_module": "@jupyter-widgets/controls",
          "model_name": "DescriptionStyleModel",
          "model_module_version": "1.5.0",
          "state": {
            "_view_name": "StyleView",
            "_model_name": "DescriptionStyleModel",
            "description_width": "",
            "_view_module": "@jupyter-widgets/base",
            "_model_module_version": "1.5.0",
            "_view_count": null,
            "_view_module_version": "1.2.0",
            "_model_module": "@jupyter-widgets/controls"
          }
        },
        "4a312b226d3247bab8f7b80fe198fe82": {
          "model_module": "@jupyter-widgets/base",
          "model_name": "LayoutModel",
          "model_module_version": "1.2.0",
          "state": {
            "_view_name": "LayoutView",
            "grid_template_rows": null,
            "right": null,
            "justify_content": null,
            "_view_module": "@jupyter-widgets/base",
            "overflow": null,
            "_model_module_version": "1.2.0",
            "_view_count": null,
            "flex_flow": null,
            "width": null,
            "min_width": null,
            "border": null,
            "align_items": null,
            "bottom": null,
            "_model_module": "@jupyter-widgets/base",
            "top": null,
            "grid_column": null,
            "overflow_y": null,
            "overflow_x": null,
            "grid_auto_flow": null,
            "grid_area": null,
            "grid_template_columns": null,
            "flex": null,
            "_model_name": "LayoutModel",
            "justify_items": null,
            "grid_row": null,
            "max_height": null,
            "align_content": null,
            "visibility": null,
            "align_self": null,
            "height": null,
            "min_height": null,
            "padding": null,
            "grid_auto_rows": null,
            "grid_gap": null,
            "max_width": null,
            "order": null,
            "_view_module_version": "1.2.0",
            "grid_template_areas": null,
            "object_position": null,
            "object_fit": null,
            "grid_auto_columns": null,
            "margin": null,
            "display": null,
            "left": null
          }
        },
        "101026f165de44fb95c0eaaad390a09f": {
          "model_module": "@jupyter-widgets/controls",
          "model_name": "HBoxModel",
          "model_module_version": "1.5.0",
          "state": {
            "_view_name": "HBoxView",
            "_dom_classes": [],
            "_model_name": "HBoxModel",
            "_view_module": "@jupyter-widgets/controls",
            "_model_module_version": "1.5.0",
            "_view_count": null,
            "_view_module_version": "1.5.0",
            "box_style": "",
            "layout": "IPY_MODEL_141ffb17465845b9891c42f3132672de",
            "_model_module": "@jupyter-widgets/controls",
            "children": [
              "IPY_MODEL_8bbc0d05a15a46b1ae6f70622fa55c4d",
              "IPY_MODEL_7e8b35ec91eb4941ac8995447d412e19",
              "IPY_MODEL_38d48858faa9457585a0f40cc1ac0c77"
            ]
          }
        },
        "141ffb17465845b9891c42f3132672de": {
          "model_module": "@jupyter-widgets/base",
          "model_name": "LayoutModel",
          "model_module_version": "1.2.0",
          "state": {
            "_view_name": "LayoutView",
            "grid_template_rows": null,
            "right": null,
            "justify_content": null,
            "_view_module": "@jupyter-widgets/base",
            "overflow": null,
            "_model_module_version": "1.2.0",
            "_view_count": null,
            "flex_flow": null,
            "width": null,
            "min_width": null,
            "border": null,
            "align_items": null,
            "bottom": null,
            "_model_module": "@jupyter-widgets/base",
            "top": null,
            "grid_column": null,
            "overflow_y": null,
            "overflow_x": null,
            "grid_auto_flow": null,
            "grid_area": null,
            "grid_template_columns": null,
            "flex": null,
            "_model_name": "LayoutModel",
            "justify_items": null,
            "grid_row": null,
            "max_height": null,
            "align_content": null,
            "visibility": null,
            "align_self": null,
            "height": null,
            "min_height": null,
            "padding": null,
            "grid_auto_rows": null,
            "grid_gap": null,
            "max_width": null,
            "order": null,
            "_view_module_version": "1.2.0",
            "grid_template_areas": null,
            "object_position": null,
            "object_fit": null,
            "grid_auto_columns": null,
            "margin": null,
            "display": null,
            "left": null
          }
        },
        "8bbc0d05a15a46b1ae6f70622fa55c4d": {
          "model_module": "@jupyter-widgets/controls",
          "model_name": "HTMLModel",
          "model_module_version": "1.5.0",
          "state": {
            "_view_name": "HTMLView",
            "style": "IPY_MODEL_28246b0d5b464cefa2cb37d5696eb36f",
            "_dom_classes": [],
            "description": "",
            "_model_name": "HTMLModel",
            "placeholder": "​",
            "_view_module": "@jupyter-widgets/controls",
            "_model_module_version": "1.5.0",
            "value": "Downloading: 100%",
            "_view_count": null,
            "_view_module_version": "1.5.0",
            "description_tooltip": null,
            "_model_module": "@jupyter-widgets/controls",
            "layout": "IPY_MODEL_09996407265f481a8c3a3405605721e7"
          }
        },
        "7e8b35ec91eb4941ac8995447d412e19": {
          "model_module": "@jupyter-widgets/controls",
          "model_name": "FloatProgressModel",
          "model_module_version": "1.5.0",
          "state": {
            "_view_name": "ProgressView",
            "style": "IPY_MODEL_10ac07274cfc4909976ce79de2515643",
            "_dom_classes": [],
            "description": "",
            "_model_name": "FloatProgressModel",
            "bar_style": "success",
            "max": 28,
            "_view_module": "@jupyter-widgets/controls",
            "_model_module_version": "1.5.0",
            "value": 28,
            "_view_count": null,
            "_view_module_version": "1.5.0",
            "orientation": "horizontal",
            "min": 0,
            "description_tooltip": null,
            "_model_module": "@jupyter-widgets/controls",
            "layout": "IPY_MODEL_1b69033fab134d198bf513cf228d973f"
          }
        },
        "38d48858faa9457585a0f40cc1ac0c77": {
          "model_module": "@jupyter-widgets/controls",
          "model_name": "HTMLModel",
          "model_module_version": "1.5.0",
          "state": {
            "_view_name": "HTMLView",
            "style": "IPY_MODEL_09d544096d834b169d82273afe625390",
            "_dom_classes": [],
            "description": "",
            "_model_name": "HTMLModel",
            "placeholder": "​",
            "_view_module": "@jupyter-widgets/controls",
            "_model_module_version": "1.5.0",
            "value": " 28.0/28.0 [00:00&lt;00:00, 884B/s]",
            "_view_count": null,
            "_view_module_version": "1.5.0",
            "description_tooltip": null,
            "_model_module": "@jupyter-widgets/controls",
            "layout": "IPY_MODEL_6162d3bde32a48ffbb51bfb2dd4e9dc9"
          }
        },
        "28246b0d5b464cefa2cb37d5696eb36f": {
          "model_module": "@jupyter-widgets/controls",
          "model_name": "DescriptionStyleModel",
          "model_module_version": "1.5.0",
          "state": {
            "_view_name": "StyleView",
            "_model_name": "DescriptionStyleModel",
            "description_width": "",
            "_view_module": "@jupyter-widgets/base",
            "_model_module_version": "1.5.0",
            "_view_count": null,
            "_view_module_version": "1.2.0",
            "_model_module": "@jupyter-widgets/controls"
          }
        },
        "09996407265f481a8c3a3405605721e7": {
          "model_module": "@jupyter-widgets/base",
          "model_name": "LayoutModel",
          "model_module_version": "1.2.0",
          "state": {
            "_view_name": "LayoutView",
            "grid_template_rows": null,
            "right": null,
            "justify_content": null,
            "_view_module": "@jupyter-widgets/base",
            "overflow": null,
            "_model_module_version": "1.2.0",
            "_view_count": null,
            "flex_flow": null,
            "width": null,
            "min_width": null,
            "border": null,
            "align_items": null,
            "bottom": null,
            "_model_module": "@jupyter-widgets/base",
            "top": null,
            "grid_column": null,
            "overflow_y": null,
            "overflow_x": null,
            "grid_auto_flow": null,
            "grid_area": null,
            "grid_template_columns": null,
            "flex": null,
            "_model_name": "LayoutModel",
            "justify_items": null,
            "grid_row": null,
            "max_height": null,
            "align_content": null,
            "visibility": null,
            "align_self": null,
            "height": null,
            "min_height": null,
            "padding": null,
            "grid_auto_rows": null,
            "grid_gap": null,
            "max_width": null,
            "order": null,
            "_view_module_version": "1.2.0",
            "grid_template_areas": null,
            "object_position": null,
            "object_fit": null,
            "grid_auto_columns": null,
            "margin": null,
            "display": null,
            "left": null
          }
        },
        "10ac07274cfc4909976ce79de2515643": {
          "model_module": "@jupyter-widgets/controls",
          "model_name": "ProgressStyleModel",
          "model_module_version": "1.5.0",
          "state": {
            "_view_name": "StyleView",
            "_model_name": "ProgressStyleModel",
            "description_width": "",
            "_view_module": "@jupyter-widgets/base",
            "_model_module_version": "1.5.0",
            "_view_count": null,
            "_view_module_version": "1.2.0",
            "bar_color": null,
            "_model_module": "@jupyter-widgets/controls"
          }
        },
        "1b69033fab134d198bf513cf228d973f": {
          "model_module": "@jupyter-widgets/base",
          "model_name": "LayoutModel",
          "model_module_version": "1.2.0",
          "state": {
            "_view_name": "LayoutView",
            "grid_template_rows": null,
            "right": null,
            "justify_content": null,
            "_view_module": "@jupyter-widgets/base",
            "overflow": null,
            "_model_module_version": "1.2.0",
            "_view_count": null,
            "flex_flow": null,
            "width": null,
            "min_width": null,
            "border": null,
            "align_items": null,
            "bottom": null,
            "_model_module": "@jupyter-widgets/base",
            "top": null,
            "grid_column": null,
            "overflow_y": null,
            "overflow_x": null,
            "grid_auto_flow": null,
            "grid_area": null,
            "grid_template_columns": null,
            "flex": null,
            "_model_name": "LayoutModel",
            "justify_items": null,
            "grid_row": null,
            "max_height": null,
            "align_content": null,
            "visibility": null,
            "align_self": null,
            "height": null,
            "min_height": null,
            "padding": null,
            "grid_auto_rows": null,
            "grid_gap": null,
            "max_width": null,
            "order": null,
            "_view_module_version": "1.2.0",
            "grid_template_areas": null,
            "object_position": null,
            "object_fit": null,
            "grid_auto_columns": null,
            "margin": null,
            "display": null,
            "left": null
          }
        },
        "09d544096d834b169d82273afe625390": {
          "model_module": "@jupyter-widgets/controls",
          "model_name": "DescriptionStyleModel",
          "model_module_version": "1.5.0",
          "state": {
            "_view_name": "StyleView",
            "_model_name": "DescriptionStyleModel",
            "description_width": "",
            "_view_module": "@jupyter-widgets/base",
            "_model_module_version": "1.5.0",
            "_view_count": null,
            "_view_module_version": "1.2.0",
            "_model_module": "@jupyter-widgets/controls"
          }
        },
        "6162d3bde32a48ffbb51bfb2dd4e9dc9": {
          "model_module": "@jupyter-widgets/base",
          "model_name": "LayoutModel",
          "model_module_version": "1.2.0",
          "state": {
            "_view_name": "LayoutView",
            "grid_template_rows": null,
            "right": null,
            "justify_content": null,
            "_view_module": "@jupyter-widgets/base",
            "overflow": null,
            "_model_module_version": "1.2.0",
            "_view_count": null,
            "flex_flow": null,
            "width": null,
            "min_width": null,
            "border": null,
            "align_items": null,
            "bottom": null,
            "_model_module": "@jupyter-widgets/base",
            "top": null,
            "grid_column": null,
            "overflow_y": null,
            "overflow_x": null,
            "grid_auto_flow": null,
            "grid_area": null,
            "grid_template_columns": null,
            "flex": null,
            "_model_name": "LayoutModel",
            "justify_items": null,
            "grid_row": null,
            "max_height": null,
            "align_content": null,
            "visibility": null,
            "align_self": null,
            "height": null,
            "min_height": null,
            "padding": null,
            "grid_auto_rows": null,
            "grid_gap": null,
            "max_width": null,
            "order": null,
            "_view_module_version": "1.2.0",
            "grid_template_areas": null,
            "object_position": null,
            "object_fit": null,
            "grid_auto_columns": null,
            "margin": null,
            "display": null,
            "left": null
          }
        },
        "a021d15a851941bbaebb916070897603": {
          "model_module": "@jupyter-widgets/controls",
          "model_name": "HBoxModel",
          "model_module_version": "1.5.0",
          "state": {
            "_view_name": "HBoxView",
            "_dom_classes": [],
            "_model_name": "HBoxModel",
            "_view_module": "@jupyter-widgets/controls",
            "_model_module_version": "1.5.0",
            "_view_count": null,
            "_view_module_version": "1.5.0",
            "box_style": "",
            "layout": "IPY_MODEL_f3b41bc33541427b964014930f87bef0",
            "_model_module": "@jupyter-widgets/controls",
            "children": [
              "IPY_MODEL_683bd34f8e844e858faa3e427b459b88",
              "IPY_MODEL_077cde8be9d04074824ed4f0349ced37",
              "IPY_MODEL_e19973fcc0624fcfbb9abb6a94c4990c"
            ]
          }
        },
        "f3b41bc33541427b964014930f87bef0": {
          "model_module": "@jupyter-widgets/base",
          "model_name": "LayoutModel",
          "model_module_version": "1.2.0",
          "state": {
            "_view_name": "LayoutView",
            "grid_template_rows": null,
            "right": null,
            "justify_content": null,
            "_view_module": "@jupyter-widgets/base",
            "overflow": null,
            "_model_module_version": "1.2.0",
            "_view_count": null,
            "flex_flow": null,
            "width": null,
            "min_width": null,
            "border": null,
            "align_items": null,
            "bottom": null,
            "_model_module": "@jupyter-widgets/base",
            "top": null,
            "grid_column": null,
            "overflow_y": null,
            "overflow_x": null,
            "grid_auto_flow": null,
            "grid_area": null,
            "grid_template_columns": null,
            "flex": null,
            "_model_name": "LayoutModel",
            "justify_items": null,
            "grid_row": null,
            "max_height": null,
            "align_content": null,
            "visibility": null,
            "align_self": null,
            "height": null,
            "min_height": null,
            "padding": null,
            "grid_auto_rows": null,
            "grid_gap": null,
            "max_width": null,
            "order": null,
            "_view_module_version": "1.2.0",
            "grid_template_areas": null,
            "object_position": null,
            "object_fit": null,
            "grid_auto_columns": null,
            "margin": null,
            "display": null,
            "left": null
          }
        },
        "683bd34f8e844e858faa3e427b459b88": {
          "model_module": "@jupyter-widgets/controls",
          "model_name": "HTMLModel",
          "model_module_version": "1.5.0",
          "state": {
            "_view_name": "HTMLView",
            "style": "IPY_MODEL_9858affd1894464e8e96e128717982e7",
            "_dom_classes": [],
            "description": "",
            "_model_name": "HTMLModel",
            "placeholder": "​",
            "_view_module": "@jupyter-widgets/controls",
            "_model_module_version": "1.5.0",
            "value": "Downloading: 100%",
            "_view_count": null,
            "_view_module_version": "1.5.0",
            "description_tooltip": null,
            "_model_module": "@jupyter-widgets/controls",
            "layout": "IPY_MODEL_04f875ba3c1d4b2a8bf5724b3584cfc5"
          }
        },
        "077cde8be9d04074824ed4f0349ced37": {
          "model_module": "@jupyter-widgets/controls",
          "model_name": "FloatProgressModel",
          "model_module_version": "1.5.0",
          "state": {
            "_view_name": "ProgressView",
            "style": "IPY_MODEL_92f73dde3a6f45679efe7a0367d035fa",
            "_dom_classes": [],
            "description": "",
            "_model_name": "FloatProgressModel",
            "bar_style": "success",
            "max": 466062,
            "_view_module": "@jupyter-widgets/controls",
            "_model_module_version": "1.5.0",
            "value": 466062,
            "_view_count": null,
            "_view_module_version": "1.5.0",
            "orientation": "horizontal",
            "min": 0,
            "description_tooltip": null,
            "_model_module": "@jupyter-widgets/controls",
            "layout": "IPY_MODEL_f199d9aecc434b2f81c4dfa7345b3862"
          }
        },
        "e19973fcc0624fcfbb9abb6a94c4990c": {
          "model_module": "@jupyter-widgets/controls",
          "model_name": "HTMLModel",
          "model_module_version": "1.5.0",
          "state": {
            "_view_name": "HTMLView",
            "style": "IPY_MODEL_c3da9e9c76224b9e8f3a16e3407e13de",
            "_dom_classes": [],
            "description": "",
            "_model_name": "HTMLModel",
            "placeholder": "​",
            "_view_module": "@jupyter-widgets/controls",
            "_model_module_version": "1.5.0",
            "value": " 455k/455k [00:00&lt;00:00, 2.53MB/s]",
            "_view_count": null,
            "_view_module_version": "1.5.0",
            "description_tooltip": null,
            "_model_module": "@jupyter-widgets/controls",
            "layout": "IPY_MODEL_27e5f42a668f4c40b85bc3fa5e3eddfc"
          }
        },
        "9858affd1894464e8e96e128717982e7": {
          "model_module": "@jupyter-widgets/controls",
          "model_name": "DescriptionStyleModel",
          "model_module_version": "1.5.0",
          "state": {
            "_view_name": "StyleView",
            "_model_name": "DescriptionStyleModel",
            "description_width": "",
            "_view_module": "@jupyter-widgets/base",
            "_model_module_version": "1.5.0",
            "_view_count": null,
            "_view_module_version": "1.2.0",
            "_model_module": "@jupyter-widgets/controls"
          }
        },
        "04f875ba3c1d4b2a8bf5724b3584cfc5": {
          "model_module": "@jupyter-widgets/base",
          "model_name": "LayoutModel",
          "model_module_version": "1.2.0",
          "state": {
            "_view_name": "LayoutView",
            "grid_template_rows": null,
            "right": null,
            "justify_content": null,
            "_view_module": "@jupyter-widgets/base",
            "overflow": null,
            "_model_module_version": "1.2.0",
            "_view_count": null,
            "flex_flow": null,
            "width": null,
            "min_width": null,
            "border": null,
            "align_items": null,
            "bottom": null,
            "_model_module": "@jupyter-widgets/base",
            "top": null,
            "grid_column": null,
            "overflow_y": null,
            "overflow_x": null,
            "grid_auto_flow": null,
            "grid_area": null,
            "grid_template_columns": null,
            "flex": null,
            "_model_name": "LayoutModel",
            "justify_items": null,
            "grid_row": null,
            "max_height": null,
            "align_content": null,
            "visibility": null,
            "align_self": null,
            "height": null,
            "min_height": null,
            "padding": null,
            "grid_auto_rows": null,
            "grid_gap": null,
            "max_width": null,
            "order": null,
            "_view_module_version": "1.2.0",
            "grid_template_areas": null,
            "object_position": null,
            "object_fit": null,
            "grid_auto_columns": null,
            "margin": null,
            "display": null,
            "left": null
          }
        },
        "92f73dde3a6f45679efe7a0367d035fa": {
          "model_module": "@jupyter-widgets/controls",
          "model_name": "ProgressStyleModel",
          "model_module_version": "1.5.0",
          "state": {
            "_view_name": "StyleView",
            "_model_name": "ProgressStyleModel",
            "description_width": "",
            "_view_module": "@jupyter-widgets/base",
            "_model_module_version": "1.5.0",
            "_view_count": null,
            "_view_module_version": "1.2.0",
            "bar_color": null,
            "_model_module": "@jupyter-widgets/controls"
          }
        },
        "f199d9aecc434b2f81c4dfa7345b3862": {
          "model_module": "@jupyter-widgets/base",
          "model_name": "LayoutModel",
          "model_module_version": "1.2.0",
          "state": {
            "_view_name": "LayoutView",
            "grid_template_rows": null,
            "right": null,
            "justify_content": null,
            "_view_module": "@jupyter-widgets/base",
            "overflow": null,
            "_model_module_version": "1.2.0",
            "_view_count": null,
            "flex_flow": null,
            "width": null,
            "min_width": null,
            "border": null,
            "align_items": null,
            "bottom": null,
            "_model_module": "@jupyter-widgets/base",
            "top": null,
            "grid_column": null,
            "overflow_y": null,
            "overflow_x": null,
            "grid_auto_flow": null,
            "grid_area": null,
            "grid_template_columns": null,
            "flex": null,
            "_model_name": "LayoutModel",
            "justify_items": null,
            "grid_row": null,
            "max_height": null,
            "align_content": null,
            "visibility": null,
            "align_self": null,
            "height": null,
            "min_height": null,
            "padding": null,
            "grid_auto_rows": null,
            "grid_gap": null,
            "max_width": null,
            "order": null,
            "_view_module_version": "1.2.0",
            "grid_template_areas": null,
            "object_position": null,
            "object_fit": null,
            "grid_auto_columns": null,
            "margin": null,
            "display": null,
            "left": null
          }
        },
        "c3da9e9c76224b9e8f3a16e3407e13de": {
          "model_module": "@jupyter-widgets/controls",
          "model_name": "DescriptionStyleModel",
          "model_module_version": "1.5.0",
          "state": {
            "_view_name": "StyleView",
            "_model_name": "DescriptionStyleModel",
            "description_width": "",
            "_view_module": "@jupyter-widgets/base",
            "_model_module_version": "1.5.0",
            "_view_count": null,
            "_view_module_version": "1.2.0",
            "_model_module": "@jupyter-widgets/controls"
          }
        },
        "27e5f42a668f4c40b85bc3fa5e3eddfc": {
          "model_module": "@jupyter-widgets/base",
          "model_name": "LayoutModel",
          "model_module_version": "1.2.0",
          "state": {
            "_view_name": "LayoutView",
            "grid_template_rows": null,
            "right": null,
            "justify_content": null,
            "_view_module": "@jupyter-widgets/base",
            "overflow": null,
            "_model_module_version": "1.2.0",
            "_view_count": null,
            "flex_flow": null,
            "width": null,
            "min_width": null,
            "border": null,
            "align_items": null,
            "bottom": null,
            "_model_module": "@jupyter-widgets/base",
            "top": null,
            "grid_column": null,
            "overflow_y": null,
            "overflow_x": null,
            "grid_auto_flow": null,
            "grid_area": null,
            "grid_template_columns": null,
            "flex": null,
            "_model_name": "LayoutModel",
            "justify_items": null,
            "grid_row": null,
            "max_height": null,
            "align_content": null,
            "visibility": null,
            "align_self": null,
            "height": null,
            "min_height": null,
            "padding": null,
            "grid_auto_rows": null,
            "grid_gap": null,
            "max_width": null,
            "order": null,
            "_view_module_version": "1.2.0",
            "grid_template_areas": null,
            "object_position": null,
            "object_fit": null,
            "grid_auto_columns": null,
            "margin": null,
            "display": null,
            "left": null
          }
        },
        "2669d9facb644bcdac9b89863db2555c": {
          "model_module": "@jupyter-widgets/controls",
          "model_name": "HBoxModel",
          "model_module_version": "1.5.0",
          "state": {
            "_view_name": "HBoxView",
            "_dom_classes": [],
            "_model_name": "HBoxModel",
            "_view_module": "@jupyter-widgets/controls",
            "_model_module_version": "1.5.0",
            "_view_count": null,
            "_view_module_version": "1.5.0",
            "box_style": "",
            "layout": "IPY_MODEL_5caa1c8a1b794abfa5b9e211529ab170",
            "_model_module": "@jupyter-widgets/controls",
            "children": [
              "IPY_MODEL_775e92cdb3134991b06a520cd53393a0",
              "IPY_MODEL_688b2f7ce00d403cac2744ec7e9e57ea",
              "IPY_MODEL_327c0e1215274948b228058650093009"
            ]
          }
        },
        "5caa1c8a1b794abfa5b9e211529ab170": {
          "model_module": "@jupyter-widgets/base",
          "model_name": "LayoutModel",
          "model_module_version": "1.2.0",
          "state": {
            "_view_name": "LayoutView",
            "grid_template_rows": null,
            "right": null,
            "justify_content": null,
            "_view_module": "@jupyter-widgets/base",
            "overflow": null,
            "_model_module_version": "1.2.0",
            "_view_count": null,
            "flex_flow": null,
            "width": null,
            "min_width": null,
            "border": null,
            "align_items": null,
            "bottom": null,
            "_model_module": "@jupyter-widgets/base",
            "top": null,
            "grid_column": null,
            "overflow_y": null,
            "overflow_x": null,
            "grid_auto_flow": null,
            "grid_area": null,
            "grid_template_columns": null,
            "flex": null,
            "_model_name": "LayoutModel",
            "justify_items": null,
            "grid_row": null,
            "max_height": null,
            "align_content": null,
            "visibility": null,
            "align_self": null,
            "height": null,
            "min_height": null,
            "padding": null,
            "grid_auto_rows": null,
            "grid_gap": null,
            "max_width": null,
            "order": null,
            "_view_module_version": "1.2.0",
            "grid_template_areas": null,
            "object_position": null,
            "object_fit": null,
            "grid_auto_columns": null,
            "margin": null,
            "display": null,
            "left": null
          }
        },
        "775e92cdb3134991b06a520cd53393a0": {
          "model_module": "@jupyter-widgets/controls",
          "model_name": "HTMLModel",
          "model_module_version": "1.5.0",
          "state": {
            "_view_name": "HTMLView",
            "style": "IPY_MODEL_21135fd51e624e66976ad4b63a21c147",
            "_dom_classes": [],
            "description": "",
            "_model_name": "HTMLModel",
            "placeholder": "​",
            "_view_module": "@jupyter-widgets/controls",
            "_model_module_version": "1.5.0",
            "value": "Downloading: 100%",
            "_view_count": null,
            "_view_module_version": "1.5.0",
            "description_tooltip": null,
            "_model_module": "@jupyter-widgets/controls",
            "layout": "IPY_MODEL_d134be0234a449e09dcb7e6052e53874"
          }
        },
        "688b2f7ce00d403cac2744ec7e9e57ea": {
          "model_module": "@jupyter-widgets/controls",
          "model_name": "FloatProgressModel",
          "model_module_version": "1.5.0",
          "state": {
            "_view_name": "ProgressView",
            "style": "IPY_MODEL_8e55a5d606ea455a87af4a5ede395c66",
            "_dom_classes": [],
            "description": "",
            "_model_name": "FloatProgressModel",
            "bar_style": "success",
            "max": 570,
            "_view_module": "@jupyter-widgets/controls",
            "_model_module_version": "1.5.0",
            "value": 570,
            "_view_count": null,
            "_view_module_version": "1.5.0",
            "orientation": "horizontal",
            "min": 0,
            "description_tooltip": null,
            "_model_module": "@jupyter-widgets/controls",
            "layout": "IPY_MODEL_c5b1830cd12b42d2bd0b53360777b84e"
          }
        },
        "327c0e1215274948b228058650093009": {
          "model_module": "@jupyter-widgets/controls",
          "model_name": "HTMLModel",
          "model_module_version": "1.5.0",
          "state": {
            "_view_name": "HTMLView",
            "style": "IPY_MODEL_1c74cbc5324941e0b79e45309733b061",
            "_dom_classes": [],
            "description": "",
            "_model_name": "HTMLModel",
            "placeholder": "​",
            "_view_module": "@jupyter-widgets/controls",
            "_model_module_version": "1.5.0",
            "value": " 570/570 [00:00&lt;00:00, 18.4kB/s]",
            "_view_count": null,
            "_view_module_version": "1.5.0",
            "description_tooltip": null,
            "_model_module": "@jupyter-widgets/controls",
            "layout": "IPY_MODEL_7f0a52b78bfb4983bd801c56d0033913"
          }
        },
        "21135fd51e624e66976ad4b63a21c147": {
          "model_module": "@jupyter-widgets/controls",
          "model_name": "DescriptionStyleModel",
          "model_module_version": "1.5.0",
          "state": {
            "_view_name": "StyleView",
            "_model_name": "DescriptionStyleModel",
            "description_width": "",
            "_view_module": "@jupyter-widgets/base",
            "_model_module_version": "1.5.0",
            "_view_count": null,
            "_view_module_version": "1.2.0",
            "_model_module": "@jupyter-widgets/controls"
          }
        },
        "d134be0234a449e09dcb7e6052e53874": {
          "model_module": "@jupyter-widgets/base",
          "model_name": "LayoutModel",
          "model_module_version": "1.2.0",
          "state": {
            "_view_name": "LayoutView",
            "grid_template_rows": null,
            "right": null,
            "justify_content": null,
            "_view_module": "@jupyter-widgets/base",
            "overflow": null,
            "_model_module_version": "1.2.0",
            "_view_count": null,
            "flex_flow": null,
            "width": null,
            "min_width": null,
            "border": null,
            "align_items": null,
            "bottom": null,
            "_model_module": "@jupyter-widgets/base",
            "top": null,
            "grid_column": null,
            "overflow_y": null,
            "overflow_x": null,
            "grid_auto_flow": null,
            "grid_area": null,
            "grid_template_columns": null,
            "flex": null,
            "_model_name": "LayoutModel",
            "justify_items": null,
            "grid_row": null,
            "max_height": null,
            "align_content": null,
            "visibility": null,
            "align_self": null,
            "height": null,
            "min_height": null,
            "padding": null,
            "grid_auto_rows": null,
            "grid_gap": null,
            "max_width": null,
            "order": null,
            "_view_module_version": "1.2.0",
            "grid_template_areas": null,
            "object_position": null,
            "object_fit": null,
            "grid_auto_columns": null,
            "margin": null,
            "display": null,
            "left": null
          }
        },
        "8e55a5d606ea455a87af4a5ede395c66": {
          "model_module": "@jupyter-widgets/controls",
          "model_name": "ProgressStyleModel",
          "model_module_version": "1.5.0",
          "state": {
            "_view_name": "StyleView",
            "_model_name": "ProgressStyleModel",
            "description_width": "",
            "_view_module": "@jupyter-widgets/base",
            "_model_module_version": "1.5.0",
            "_view_count": null,
            "_view_module_version": "1.2.0",
            "bar_color": null,
            "_model_module": "@jupyter-widgets/controls"
          }
        },
        "c5b1830cd12b42d2bd0b53360777b84e": {
          "model_module": "@jupyter-widgets/base",
          "model_name": "LayoutModel",
          "model_module_version": "1.2.0",
          "state": {
            "_view_name": "LayoutView",
            "grid_template_rows": null,
            "right": null,
            "justify_content": null,
            "_view_module": "@jupyter-widgets/base",
            "overflow": null,
            "_model_module_version": "1.2.0",
            "_view_count": null,
            "flex_flow": null,
            "width": null,
            "min_width": null,
            "border": null,
            "align_items": null,
            "bottom": null,
            "_model_module": "@jupyter-widgets/base",
            "top": null,
            "grid_column": null,
            "overflow_y": null,
            "overflow_x": null,
            "grid_auto_flow": null,
            "grid_area": null,
            "grid_template_columns": null,
            "flex": null,
            "_model_name": "LayoutModel",
            "justify_items": null,
            "grid_row": null,
            "max_height": null,
            "align_content": null,
            "visibility": null,
            "align_self": null,
            "height": null,
            "min_height": null,
            "padding": null,
            "grid_auto_rows": null,
            "grid_gap": null,
            "max_width": null,
            "order": null,
            "_view_module_version": "1.2.0",
            "grid_template_areas": null,
            "object_position": null,
            "object_fit": null,
            "grid_auto_columns": null,
            "margin": null,
            "display": null,
            "left": null
          }
        },
        "1c74cbc5324941e0b79e45309733b061": {
          "model_module": "@jupyter-widgets/controls",
          "model_name": "DescriptionStyleModel",
          "model_module_version": "1.5.0",
          "state": {
            "_view_name": "StyleView",
            "_model_name": "DescriptionStyleModel",
            "description_width": "",
            "_view_module": "@jupyter-widgets/base",
            "_model_module_version": "1.5.0",
            "_view_count": null,
            "_view_module_version": "1.2.0",
            "_model_module": "@jupyter-widgets/controls"
          }
        },
        "7f0a52b78bfb4983bd801c56d0033913": {
          "model_module": "@jupyter-widgets/base",
          "model_name": "LayoutModel",
          "model_module_version": "1.2.0",
          "state": {
            "_view_name": "LayoutView",
            "grid_template_rows": null,
            "right": null,
            "justify_content": null,
            "_view_module": "@jupyter-widgets/base",
            "overflow": null,
            "_model_module_version": "1.2.0",
            "_view_count": null,
            "flex_flow": null,
            "width": null,
            "min_width": null,
            "border": null,
            "align_items": null,
            "bottom": null,
            "_model_module": "@jupyter-widgets/base",
            "top": null,
            "grid_column": null,
            "overflow_y": null,
            "overflow_x": null,
            "grid_auto_flow": null,
            "grid_area": null,
            "grid_template_columns": null,
            "flex": null,
            "_model_name": "LayoutModel",
            "justify_items": null,
            "grid_row": null,
            "max_height": null,
            "align_content": null,
            "visibility": null,
            "align_self": null,
            "height": null,
            "min_height": null,
            "padding": null,
            "grid_auto_rows": null,
            "grid_gap": null,
            "max_width": null,
            "order": null,
            "_view_module_version": "1.2.0",
            "grid_template_areas": null,
            "object_position": null,
            "object_fit": null,
            "grid_auto_columns": null,
            "margin": null,
            "display": null,
            "left": null
          }
        }
      }
    }
  },
  "cells": [
    {
      "cell_type": "markdown",
      "metadata": {
        "id": "MfTh4bUzAmSX"
      },
      "source": [
        "<h1 style=\"padding-top: 25px;padding-bottom: 25px;text-align: left; padding-left: 10px; background-color: #DDDDDD; \n",
        "    color: black;\"> <img style=\"float: left; padding-right: 10px;\" src=\"https://raw.githubusercontent.com/Harvard-IACS/2018-CS109A/master/content/styles/iacs.png\" height=\"50px\"> <a href='https://harvard-iacs.github.io/2021-AC215/' target='_blank'><strong><font color=\"#A41034\">AC215: Advanced Practical Data Science, MLOps</font></strong></a></h1>\n",
        "\n",
        "# **<font color=\"#A41034\">Exercise 4 - Language Models</font>**\n",
        "\n",
        "**Harvard University**<br/>\n",
        "**Fall 2021**<br/>\n",
        "**Instructor:**<br/>\n",
        "Pavlos Protopapas\n",
        "\n",
        "<hr style=\"height:2pt\">"
      ]
    },
    {
      "cell_type": "markdown",
      "metadata": {
        "id": "pWSXnfQUStq5"
      },
      "source": [
        "## **<font color=\"#A41034\">Competition</font>**\n",
        "\n",
        "### **<font color=\"#f03b20\">Due Date: Check Canvas</font>**\n",
        "\n",
        "#### **[Join Competition](https://www.kaggle.com/t/a8ec65d928b645e596a071527b3b3d33)**\n",
        "\n",
        "#### **[View Leaderboard](https://www.kaggle.com/c/ac215-fall-2021/leaderboard)**\n",
        "\n",
        "Now your task for this exercise is to build the best language model capable of classifying **abstracts** of Astrophysics papers taken from ArXiv. The labels for the classification dataset are as following: \n",
        "\n",
        "**Lables:**\n",
        "\n",
        "* 0 = astro-ph.SR - Solar and Stellar Astrophysics\n",
        "* 1 = astro-ph.GA - Astrophysics of Galaxies\n",
        "* 2 = astro-ph.CO - Cosmology and Nongalactic Astrophysics\n",
        "\n",
        "A good start for this exercise would be to start with some pre-trained language models. Since the text in Astrophysics is very domain specific, there is only so much accuracy a pre-trained language model can acheive. An idea to build a better language model will be to finetune the language model on a lot of unlabled abstracts from the Astrophysics papers. Then use this finetuned model for classification.\n",
        "\n",
        "Here are some techniques you can try:\n",
        "\n",
        "* Transfer Learning using different pre-trained language models from [HuggingFace](https://huggingface.co/models)\n",
        "* Finetune a language model using the the abstract texts provided (`abstracts_train.txt` & `datasets/abstracts_validate.txt`). Here is a reference [link](https://github.com/huggingface/transformers/tree/master/examples/tensorflow/language-modeling) on how to finetune a language model\n",
        "* Any other modeling techniques you feel appropriate\n",
        "\n",
        "#### **Exercise Requirements:**\n",
        "* At a minimum beat the public leaderboard score of **0.64** (benchmark submission)\n",
        "\n",
        "\n",
        "\n",
        "<br>\n",
        "\n",
        "**Remember to upload your submission files to Kaggle and also submit your notebook to Canvas at the end.**\n",
        "\n",
        "<br>\n",
        "\n",
        "**<font color=\"#f03b20\">The leaderboard for this competition will be computed based on `hidden` test set.</font>**"
      ]
    },
    {
      "cell_type": "markdown",
      "metadata": {
        "id": "FgY9xWhgGdt8"
      },
      "source": [
        "## **<font color=\"#A41034\">Setup Notebook</font>**"
      ]
    },
    {
      "cell_type": "markdown",
      "metadata": {
        "id": "02ImzD1Kr85R"
      },
      "source": [
        "**Installs**"
      ]
    },
    {
      "cell_type": "code",
      "metadata": {
        "id": "cj2LU7par9TN",
        "colab": {
          "base_uri": "https://localhost:8080/"
        },
        "outputId": "2ff2c4e6-f982-42cd-cf11-c2b98b461a56"
      },
      "source": [
        "!pip install transformers datasets"
      ],
      "execution_count": 1,
      "outputs": [
        {
          "output_type": "stream",
          "name": "stdout",
          "text": [
            "Collecting transformers\n",
            "  Downloading transformers-4.11.3-py3-none-any.whl (2.9 MB)\n",
            "\u001b[K     |████████████████████████████████| 2.9 MB 5.3 MB/s \n",
            "\u001b[?25hCollecting datasets\n",
            "  Downloading datasets-1.13.0-py3-none-any.whl (285 kB)\n",
            "\u001b[K     |████████████████████████████████| 285 kB 47.3 MB/s \n",
            "\u001b[?25hRequirement already satisfied: requests in /usr/local/lib/python3.7/dist-packages (from transformers) (2.23.0)\n",
            "Requirement already satisfied: numpy>=1.17 in /usr/local/lib/python3.7/dist-packages (from transformers) (1.19.5)\n",
            "Requirement already satisfied: importlib-metadata in /usr/local/lib/python3.7/dist-packages (from transformers) (4.8.1)\n",
            "Collecting tokenizers<0.11,>=0.10.1\n",
            "  Downloading tokenizers-0.10.3-cp37-cp37m-manylinux_2_5_x86_64.manylinux1_x86_64.manylinux_2_12_x86_64.manylinux2010_x86_64.whl (3.3 MB)\n",
            "\u001b[K     |████████████████████████████████| 3.3 MB 40.5 MB/s \n",
            "\u001b[?25hRequirement already satisfied: filelock in /usr/local/lib/python3.7/dist-packages (from transformers) (3.3.0)\n",
            "Collecting huggingface-hub>=0.0.17\n",
            "  Downloading huggingface_hub-0.0.19-py3-none-any.whl (56 kB)\n",
            "\u001b[K     |████████████████████████████████| 56 kB 3.6 MB/s \n",
            "\u001b[?25hCollecting sacremoses\n",
            "  Downloading sacremoses-0.0.46-py3-none-any.whl (895 kB)\n",
            "\u001b[K     |████████████████████████████████| 895 kB 49.0 MB/s \n",
            "\u001b[?25hRequirement already satisfied: tqdm>=4.27 in /usr/local/lib/python3.7/dist-packages (from transformers) (4.62.3)\n",
            "Requirement already satisfied: packaging>=20.0 in /usr/local/lib/python3.7/dist-packages (from transformers) (21.0)\n",
            "Collecting pyyaml>=5.1\n",
            "  Downloading PyYAML-6.0-cp37-cp37m-manylinux_2_5_x86_64.manylinux1_x86_64.manylinux_2_12_x86_64.manylinux2010_x86_64.whl (596 kB)\n",
            "\u001b[K     |████████████████████████████████| 596 kB 51.2 MB/s \n",
            "\u001b[?25hRequirement already satisfied: regex!=2019.12.17 in /usr/local/lib/python3.7/dist-packages (from transformers) (2019.12.20)\n",
            "Requirement already satisfied: typing-extensions in /usr/local/lib/python3.7/dist-packages (from huggingface-hub>=0.0.17->transformers) (3.7.4.3)\n",
            "Requirement already satisfied: pyparsing>=2.0.2 in /usr/local/lib/python3.7/dist-packages (from packaging>=20.0->transformers) (2.4.7)\n",
            "Requirement already satisfied: pyarrow!=4.0.0,>=1.0.0 in /usr/local/lib/python3.7/dist-packages (from datasets) (3.0.0)\n",
            "Collecting fsspec[http]>=2021.05.0\n",
            "  Downloading fsspec-2021.10.0-py3-none-any.whl (125 kB)\n",
            "\u001b[K     |████████████████████████████████| 125 kB 52.2 MB/s \n",
            "\u001b[?25hCollecting xxhash\n",
            "  Downloading xxhash-2.0.2-cp37-cp37m-manylinux2010_x86_64.whl (243 kB)\n",
            "\u001b[K     |████████████████████████████████| 243 kB 46.2 MB/s \n",
            "\u001b[?25hRequirement already satisfied: dill in /usr/local/lib/python3.7/dist-packages (from datasets) (0.3.4)\n",
            "Collecting aiohttp\n",
            "  Downloading aiohttp-3.7.4.post0-cp37-cp37m-manylinux2014_x86_64.whl (1.3 MB)\n",
            "\u001b[K     |████████████████████████████████| 1.3 MB 37.6 MB/s \n",
            "\u001b[?25hRequirement already satisfied: multiprocess in /usr/local/lib/python3.7/dist-packages (from datasets) (0.70.12.2)\n",
            "Requirement already satisfied: pandas in /usr/local/lib/python3.7/dist-packages (from datasets) (1.1.5)\n",
            "Requirement already satisfied: urllib3!=1.25.0,!=1.25.1,<1.26,>=1.21.1 in /usr/local/lib/python3.7/dist-packages (from requests->transformers) (1.24.3)\n",
            "Requirement already satisfied: idna<3,>=2.5 in /usr/local/lib/python3.7/dist-packages (from requests->transformers) (2.10)\n",
            "Requirement already satisfied: chardet<4,>=3.0.2 in /usr/local/lib/python3.7/dist-packages (from requests->transformers) (3.0.4)\n",
            "Requirement already satisfied: certifi>=2017.4.17 in /usr/local/lib/python3.7/dist-packages (from requests->transformers) (2021.5.30)\n",
            "Collecting multidict<7.0,>=4.5\n",
            "  Downloading multidict-5.2.0-cp37-cp37m-manylinux_2_5_x86_64.manylinux1_x86_64.manylinux_2_12_x86_64.manylinux2010_x86_64.whl (160 kB)\n",
            "\u001b[K     |████████████████████████████████| 160 kB 60.7 MB/s \n",
            "\u001b[?25hCollecting yarl<2.0,>=1.0\n",
            "  Downloading yarl-1.7.0-cp37-cp37m-manylinux_2_5_x86_64.manylinux1_x86_64.manylinux_2_12_x86_64.manylinux2010_x86_64.whl (271 kB)\n",
            "\u001b[K     |████████████████████████████████| 271 kB 42.2 MB/s \n",
            "\u001b[?25hRequirement already satisfied: attrs>=17.3.0 in /usr/local/lib/python3.7/dist-packages (from aiohttp->datasets) (21.2.0)\n",
            "Collecting async-timeout<4.0,>=3.0\n",
            "  Downloading async_timeout-3.0.1-py3-none-any.whl (8.2 kB)\n",
            "Requirement already satisfied: zipp>=0.5 in /usr/local/lib/python3.7/dist-packages (from importlib-metadata->transformers) (3.6.0)\n",
            "Requirement already satisfied: python-dateutil>=2.7.3 in /usr/local/lib/python3.7/dist-packages (from pandas->datasets) (2.8.2)\n",
            "Requirement already satisfied: pytz>=2017.2 in /usr/local/lib/python3.7/dist-packages (from pandas->datasets) (2018.9)\n",
            "Requirement already satisfied: six>=1.5 in /usr/local/lib/python3.7/dist-packages (from python-dateutil>=2.7.3->pandas->datasets) (1.15.0)\n",
            "Requirement already satisfied: click in /usr/local/lib/python3.7/dist-packages (from sacremoses->transformers) (7.1.2)\n",
            "Requirement already satisfied: joblib in /usr/local/lib/python3.7/dist-packages (from sacremoses->transformers) (1.0.1)\n",
            "Installing collected packages: multidict, yarl, async-timeout, pyyaml, fsspec, aiohttp, xxhash, tokenizers, sacremoses, huggingface-hub, transformers, datasets\n",
            "  Attempting uninstall: pyyaml\n",
            "    Found existing installation: PyYAML 3.13\n",
            "    Uninstalling PyYAML-3.13:\n",
            "      Successfully uninstalled PyYAML-3.13\n",
            "Successfully installed aiohttp-3.7.4.post0 async-timeout-3.0.1 datasets-1.13.0 fsspec-2021.10.0 huggingface-hub-0.0.19 multidict-5.2.0 pyyaml-6.0 sacremoses-0.0.46 tokenizers-0.10.3 transformers-4.11.3 xxhash-2.0.2 yarl-1.7.0\n"
          ]
        }
      ]
    },
    {
      "cell_type": "markdown",
      "metadata": {
        "id": "xsHQIdyQHAkV"
      },
      "source": [
        "**Imports**"
      ]
    },
    {
      "cell_type": "code",
      "metadata": {
        "id": "dB7OG0AQAlha"
      },
      "source": [
        "import os\n",
        "import requests\n",
        "import zipfile\n",
        "import tarfile\n",
        "import shutil\n",
        "import math\n",
        "import json\n",
        "import time\n",
        "import sys\n",
        "import cv2\n",
        "import string\n",
        "import re\n",
        "import subprocess\n",
        "import hashlib\n",
        "import numpy as np\n",
        "import pandas as pd\n",
        "from glob import glob\n",
        "import collections\n",
        "import unicodedata\n",
        "import seaborn as sns\n",
        "import matplotlib.pyplot as plt\n",
        "import matplotlib.cm as cm\n",
        "%matplotlib inline\n",
        "\n",
        "# Tensorflow\n",
        "import tensorflow as tf\n",
        "from tensorflow import keras\n",
        "from tensorflow.keras.models import Model, Sequential\n",
        "from tensorflow.keras.layers.experimental.preprocessing import TextVectorization\n",
        "from tensorflow.keras.utils import to_categorical\n",
        "from tensorflow.python.keras import backend as K\n",
        "from tensorflow.python.keras.utils.layer_utils import count_params\n",
        "\n",
        "# sklearn\n",
        "from sklearn.model_selection import train_test_split\n",
        "\n",
        "# Transformers\n",
        "from transformers import BertTokenizer, TFBertForSequenceClassification, BertConfig\n",
        "from transformers import GPT2Tokenizer, TFGPT2LMHeadModel, GPT2Config"
      ],
      "execution_count": 2,
      "outputs": []
    },
    {
      "cell_type": "markdown",
      "metadata": {
        "id": "HwwaaoEAMmLg"
      },
      "source": [
        "**Verify Setup**"
      ]
    },
    {
      "cell_type": "markdown",
      "metadata": {
        "id": "wD106cXQMm_8"
      },
      "source": [
        "It is a good practice to verify what version of TensorFlow & Keras you are using. Also verify if GPU is enabled and what GPU you have. Run the following cells to check the version of TensorFlow\n",
        "\n",
        "References:\n",
        "- [Eager Execution](https://www.tensorflow.org/guide/eager)\n",
        "- [Data Performance](https://www.tensorflow.org/guide/data_performance)"
      ]
    },
    {
      "cell_type": "code",
      "metadata": {
        "id": "gHjjqJjIMtFH",
        "colab": {
          "base_uri": "https://localhost:8080/"
        },
        "outputId": "1c0c4821-dcca-4c25-c73b-b4ccc284b844"
      },
      "source": [
        "# Enable/Disable Eager Execution\n",
        "# Reference: https://www.tensorflow.org/guide/eager\n",
        "# TensorFlow's eager execution is an imperative programming environment that evaluates operations immediately, \n",
        "# without building graphs\n",
        "\n",
        "#tf.compat.v1.disable_eager_execution()\n",
        "#tf.compat.v1.enable_eager_execution()\n",
        "\n",
        "print(\"tensorflow version\", tf.__version__)\n",
        "print(\"keras version\", tf.keras.__version__)\n",
        "print(\"Eager Execution Enabled:\", tf.executing_eagerly())\n",
        "\n",
        "# Get the number of replicas \n",
        "strategy = tf.distribute.MirroredStrategy()\n",
        "print(\"Number of replicas:\", strategy.num_replicas_in_sync)\n",
        "\n",
        "devices = tf.config.experimental.get_visible_devices()\n",
        "print(\"Devices:\", devices)\n",
        "print(tf.config.experimental.list_logical_devices('GPU'))\n",
        "\n",
        "print(\"GPU Available: \", tf.config.list_physical_devices('GPU'))\n",
        "print(\"All Physical Devices\", tf.config.list_physical_devices())\n",
        "\n",
        "# Better performance with the tf.data API\n",
        "# Reference: https://www.tensorflow.org/guide/data_performance\n",
        "AUTOTUNE = tf.data.experimental.AUTOTUNE"
      ],
      "execution_count": 3,
      "outputs": [
        {
          "output_type": "stream",
          "name": "stdout",
          "text": [
            "tensorflow version 2.6.0\n",
            "keras version 2.6.0\n",
            "Eager Execution Enabled: True\n",
            "INFO:tensorflow:Using MirroredStrategy with devices ('/job:localhost/replica:0/task:0/device:GPU:0',)\n",
            "Number of replicas: 1\n",
            "Devices: [PhysicalDevice(name='/physical_device:CPU:0', device_type='CPU'), PhysicalDevice(name='/physical_device:GPU:0', device_type='GPU')]\n",
            "[LogicalDevice(name='/device:GPU:0', device_type='GPU')]\n",
            "GPU Available:  [PhysicalDevice(name='/physical_device:GPU:0', device_type='GPU')]\n",
            "All Physical Devices [PhysicalDevice(name='/physical_device:CPU:0', device_type='CPU'), PhysicalDevice(name='/physical_device:GPU:0', device_type='GPU')]\n"
          ]
        }
      ]
    },
    {
      "cell_type": "markdown",
      "metadata": {
        "id": "yBRyDL1GMwj0"
      },
      "source": [
        "Run this cell to see what GPU you have. If you get a P100 or T4 GPU that's great. If it's K80, it will still work but it will be slow. Make sure you start this exercise early, as training might take time."
      ]
    },
    {
      "cell_type": "code",
      "metadata": {
        "id": "DbysV9VCMxDy",
        "colab": {
          "base_uri": "https://localhost:8080/"
        },
        "outputId": "aa2ca586-4654-4596-bbe8-1fef7af2b1a0"
      },
      "source": [
        "!nvidia-smi"
      ],
      "execution_count": 4,
      "outputs": [
        {
          "output_type": "stream",
          "name": "stdout",
          "text": [
            "Wed Oct 13 21:25:35 2021       \n",
            "+-----------------------------------------------------------------------------+\n",
            "| NVIDIA-SMI 470.74       Driver Version: 460.32.03    CUDA Version: 11.2     |\n",
            "|-------------------------------+----------------------+----------------------+\n",
            "| GPU  Name        Persistence-M| Bus-Id        Disp.A | Volatile Uncorr. ECC |\n",
            "| Fan  Temp  Perf  Pwr:Usage/Cap|         Memory-Usage | GPU-Util  Compute M. |\n",
            "|                               |                      |               MIG M. |\n",
            "|===============================+======================+======================|\n",
            "|   0  Tesla P100-PCIE...  Off  | 00000000:00:04.0 Off |                    0 |\n",
            "| N/A   42C    P0    35W / 250W |    347MiB / 16280MiB |      0%      Default |\n",
            "|                               |                      |                  N/A |\n",
            "+-------------------------------+----------------------+----------------------+\n",
            "                                                                               \n",
            "+-----------------------------------------------------------------------------+\n",
            "| Processes:                                                                  |\n",
            "|  GPU   GI   CI        PID   Type   Process name                  GPU Memory |\n",
            "|        ID   ID                                                   Usage      |\n",
            "|=============================================================================|\n",
            "|  No running processes found                                                 |\n",
            "+-----------------------------------------------------------------------------+\n"
          ]
        }
      ]
    },
    {
      "cell_type": "markdown",
      "metadata": {
        "id": "6i3sZbohM2K_"
      },
      "source": [
        "**Utils**"
      ]
    },
    {
      "cell_type": "markdown",
      "metadata": {
        "id": "AIn5czLvM2sS"
      },
      "source": [
        "Here are some util functions that we will be using for this notebook"
      ]
    },
    {
      "cell_type": "code",
      "metadata": {
        "id": "wm_puO9WSoq3"
      },
      "source": [
        "def download_file(packet_url, base_path=\"\", extract=False, headers=None):\n",
        "  if base_path != \"\":\n",
        "    if not os.path.exists(base_path):\n",
        "      os.mkdir(base_path)\n",
        "  packet_file = os.path.basename(packet_url)\n",
        "  with requests.get(packet_url, stream=True, headers=headers) as r:\n",
        "      r.raise_for_status()\n",
        "      with open(os.path.join(base_path,packet_file), 'wb') as f:\n",
        "          for chunk in r.iter_content(chunk_size=8192):\n",
        "              f.write(chunk)\n",
        "  \n",
        "  if extract:\n",
        "    if packet_file.endswith(\".zip\"):\n",
        "      with zipfile.ZipFile(os.path.join(base_path,packet_file)) as zfile:\n",
        "        zfile.extractall(base_path)\n",
        "    else:\n",
        "      packet_name = packet_file.split('.')[0]\n",
        "      with tarfile.open(os.path.join(base_path,packet_file)) as tfile:\n",
        "        tfile.extractall(base_path)\n",
        "\n",
        "class JsonEncoder(json.JSONEncoder):\n",
        "  def default(self, obj):\n",
        "    if isinstance(obj, np.integer):\n",
        "        return int(obj)\n",
        "    elif isinstance(obj, np.floating):\n",
        "        return float(obj)\n",
        "    elif isinstance(obj, decimal.Decimal):\n",
        "        return float(obj)\n",
        "    elif isinstance(obj, np.ndarray):\n",
        "        return obj.tolist()\n",
        "    else:\n",
        "        return super(JsonEncoder, self).default(obj)\n",
        "\n",
        "experiment_name = None\n",
        "def create_experiment():\n",
        "  global experiment_name\n",
        "  experiment_name = \"experiment_\" + str(int(time.time()))\n",
        "\n",
        "  # Create experiment folder\n",
        "  if not os.path.exists(experiment_name):\n",
        "      os.mkdir(experiment_name)\n",
        "\n",
        "def save_data_details(data_details):\n",
        "  with open(os.path.join(experiment_name,\"data_details.json\"), \"w\") as json_file:\n",
        "    json_file.write(json.dumps(data_details,cls=JsonEncoder))\n",
        "\n",
        "def save_model(model,model_name=\"model01\"):\n",
        "\n",
        "  if isinstance(model,TFBertForSequenceClassification):\n",
        "    model.save_weights(os.path.join(experiment_name,model_name+\".h5\"))\n",
        "  else:\n",
        "    # Save the enitire model (structure + weights)\n",
        "    model.save(os.path.join(experiment_name,model_name+\".hdf5\"))\n",
        "\n",
        "    # Save only the weights\n",
        "    model.save_weights(os.path.join(experiment_name,model_name+\".h5\"))\n",
        "\n",
        "    # Save the structure only\n",
        "    model_json = model.to_json()\n",
        "    with open(os.path.join(experiment_name,model_name+\".json\"), \"w\") as json_file:\n",
        "        json_file.write(model_json)\n",
        "\n",
        "def get_model_size(model_name=\"model01\"):\n",
        "  model_size = os.stat(os.path.join(experiment_name,model_name+\".h5\")).st_size\n",
        "  return model_size\n",
        "\n",
        "def evaluate_save_model(model,test_data, training_results,execution_time, learning_rate, batch_size, epochs, optimizer,save=True):\n",
        "    \n",
        "  # Get the model train history\n",
        "  model_train_history = training_results.history\n",
        "  # Get the number of epochs the training was run for\n",
        "  num_epochs = len(model_train_history[\"loss\"])\n",
        "\n",
        "  # Plot training results\n",
        "  fig = plt.figure(figsize=(15,5))\n",
        "  axs = fig.add_subplot(1,2,1)\n",
        "  axs.set_title('Loss')\n",
        "  # Plot all metrics\n",
        "  for metric in [\"loss\",\"val_loss\"]:\n",
        "      axs.plot(np.arange(0, num_epochs), model_train_history[metric], label=metric)\n",
        "  axs.legend()\n",
        "  \n",
        "  axs = fig.add_subplot(1,2,2)\n",
        "  axs.set_title('Accuracy')\n",
        "  # Plot all metrics\n",
        "  for metric in [\"accuracy\",\"val_accuracy\"]:\n",
        "      axs.plot(np.arange(0, num_epochs), model_train_history[metric], label=metric)\n",
        "  axs.legend()\n",
        "\n",
        "  plt.show()\n",
        "  \n",
        "  # Evaluate on test data\n",
        "  evaluation_results = model.evaluate(test_data)\n",
        "  print(evaluation_results)\n",
        "  \n",
        "  if save:\n",
        "    # Save model\n",
        "    save_model(model, model_name=model.name)\n",
        "    model_size = get_model_size(model_name=model.name)\n",
        "\n",
        "    # Save model history\n",
        "    with open(os.path.join(experiment_name,model.name+\"_train_history.json\"), \"w\") as json_file:\n",
        "        json_file.write(json.dumps(model_train_history,cls=JsonEncoder))\n",
        "\n",
        "    trainable_parameters = count_params(model.trainable_weights)\n",
        "    non_trainable_parameters = count_params(model.non_trainable_weights)\n",
        "\n",
        "    # Save model metrics\n",
        "    metrics ={\n",
        "        \"trainable_parameters\":trainable_parameters,\n",
        "        \"execution_time\":execution_time,\n",
        "        \"loss\":evaluation_results[0],\n",
        "        \"accuracy\":evaluation_results[1],\n",
        "        \"model_size\":model_size,\n",
        "        \"learning_rate\":learning_rate,\n",
        "        \"batch_size\":batch_size,\n",
        "        \"epochs\":epochs,\n",
        "        \"name\": model.name,\n",
        "        \"optimizer\":type(optimizer).__name__\n",
        "    }\n",
        "    with open(os.path.join(experiment_name,model.name+\"_model_metrics.json\"), \"w\") as json_file:\n",
        "        json_file.write(json.dumps(metrics,cls=JsonEncoder))"
      ],
      "execution_count": 5,
      "outputs": []
    },
    {
      "cell_type": "markdown",
      "metadata": {
        "id": "d1BzqnfOVwuk"
      },
      "source": [
        "## **<font color=\"#A41034\">Dataset</font>**"
      ]
    },
    {
      "cell_type": "markdown",
      "metadata": {
        "id": "o9hohypOVzX2"
      },
      "source": [
        "#### **Download**"
      ]
    },
    {
      "cell_type": "code",
      "metadata": {
        "id": "ZZP5r9sAVzvx",
        "colab": {
          "base_uri": "https://localhost:8080/"
        },
        "outputId": "696753d9-9823-4924-fdbb-39a2f5b079ff"
      },
      "source": [
        "start_time = time.time()\n",
        "# Dowload the dataset\n",
        "download_file(\"https://github.com/dlops-io/datasets/releases/download/v1.0/arxiv_astronmy_competition.zip\", \n",
        "              base_path=\"datasets\", extract=True)\n",
        "execution_time = (time.time() - start_time)/60.0\n",
        "print(\"Download execution time (mins)\",execution_time)"
      ],
      "execution_count": 6,
      "outputs": [
        {
          "output_type": "stream",
          "name": "stdout",
          "text": [
            "Download execution time (mins) 0.02483716408411662\n"
          ]
        }
      ]
    },
    {
      "cell_type": "markdown",
      "metadata": {
        "id": "3bhtRhKfV_8k"
      },
      "source": [
        "#### **Load & EDA**"
      ]
    },
    {
      "cell_type": "code",
      "metadata": {
        "id": "1bxevi-PWB_U",
        "colab": {
          "base_uri": "https://localhost:8080/"
        },
        "outputId": "a50b1d1d-04c1-40ce-b16a-44ec14c3e29f"
      },
      "source": [
        "# Your Code Here\n",
        "train_df = pd.read_csv('datasets/train.csv')\n",
        "test_df = pd.read_csv('datasets/test.csv')\n",
        "\n",
        "num_classes = len(set(train_df['label']))\n",
        "print(\"Number of classes:\", num_classes)\n",
        "print(\"Labels:\", set(train_df.label))\n",
        "\n",
        "\n",
        "train_x = train_df.abstract\n",
        "train_y = train_df.label\n",
        "test_x = test_df.abstract\n",
        "print(\"train_x count:\",len(train_x))\n",
        "print(\"train_y count:\",len(train_y))\n",
        "print(\"test_x count:\",len(test_x))\n",
        "print(\"train_y Label counts:\",np.unique(train_y, return_counts=True))\n"
      ],
      "execution_count": 128,
      "outputs": [
        {
          "output_type": "stream",
          "name": "stdout",
          "text": [
            "Number of classes: 3\n",
            "Labels: {0, 1, 2}\n",
            "train_x count: 1575\n",
            "train_y count: 1575\n",
            "test_x count: 525\n",
            "train_y Label counts: (array([0, 1, 2]), array([526, 527, 522]))\n"
          ]
        }
      ]
    },
    {
      "cell_type": "code",
      "metadata": {
        "colab": {
          "base_uri": "https://localhost:8080/"
        },
        "id": "BuYeK1N9SFR-",
        "outputId": "d0c3822f-7160-41d9-996c-5a1e03b996bb"
      },
      "source": [
        "# Generate a random sample of index\n",
        "data_samples = np.random.randint(0,high=len(train_x)-1, size=5)\n",
        "for i,data_idx in enumerate(data_samples):\n",
        "  print(\"Label:\",train_y[data_idx],\", Text:\",train_x[data_idx])"
      ],
      "execution_count": 8,
      "outputs": [
        {
          "output_type": "stream",
          "name": "stdout",
          "text": [
            "Label: 1 , Text:   The deuterium fractionation in starless cores gives us a clue to estimate\n",
            "their lifetime scales, thus allowing us to distinguish between different\n",
            "dynamical theories of core formation. Cores also seem to be subject to a\n",
            "differential N2 and CO depletion which was not expected from models. We aim to\n",
            "make a survey of 10 cores to estimate their lifetime scales and depletion\n",
            "profiles in detail. After L183, in Serpens, we present the second cloud of the\n",
            "series, L1512 in Auriga. To constrain the lifetime scale, we perform chemical\n",
            "modeling of the deuteration profiles across L1512 based on dust extinction\n",
            "measurements from near-infrared observations and non-local thermal equilibrium\n",
            "radiative transfer with multiple line observations of N2H+, N2D+, DCO+, C18O,\n",
            "and 13CO, plus H2D+ (1$_{10}$--1$_{11}$). We find a peak density of\n",
            "1.1$\\times$10$^5$ cm$^{-3}$ and a central temperature of 7.5$\\pm$1 K, which are\n",
            "respectively higher and lower compared with previous dust emission studies. The\n",
            "depletion factors of N2H+ and N2D+ are 27$^{+17}_{-13}$ and 4$^{+2}_{-1}$ in\n",
            "L1512, intermediate between the two other more advanced and denser starless\n",
            "core cases, L183 and L1544. These factors also indicate a similar freeze-out of\n",
            "N2 in L1512, compared to the two others despite a peak density one to two\n",
            "orders of magnitude lower. Retrieving CO and N2 abundance profiles with the\n",
            "chemical model, we find that CO has a depletion factor of $\\sim$430-870 and the\n",
            "N2 profile is similar to that of CO unlike towards L183. Therefore, L1512 has\n",
            "probably been living long enough so that N2 chemistry has reached steady state.\n",
            "N2H+ modeling remains compulsory to assess the precise physical conditions in\n",
            "the center of cold starless cores, rather than dust emission. L1512 is\n",
            "presumably older than 1.4 Myr. Therefore, the dominating core formation\n",
            "mechanism should be ambipolar diffusion for this source.\n",
            "\n",
            "Label: 0 , Text:   We present an analysis of the photometric variability of M dwarfs in the\n",
            "WFCAM Transit Survey. Although periodic lightcurve variability in low mass\n",
            "stars is generally dominated by photospheric star spot activity, M dwarf\n",
            "variability in the J band has not been as thoroughly investigated as at visible\n",
            "wavelengths. Spectral type estimates for a sample of over 200,000 objects are\n",
            "made using spectral type-colour relations, and over 9600 dwarfs (J<17) with\n",
            "spectral types later than K7 were found. The light curves of the late-type\n",
            "sample are searched for periodicity using a Lomb-Scargle periodogram analysis.\n",
            "A total of 68 periodic variable M dwarfs are found in the sample with periods\n",
            "ranging from 0.16 days to 90.33 days, with amplitudes in the range of ~0.009 to\n",
            "~0.115 in the J band. We simulate active M dwarfs with a range of\n",
            "latitude-independent spot coverages and estimate a periodically variable\n",
            "fractions of 1-3 per cent for stars where spots cover more than 10 per cent of\n",
            "the star's surface. Our simulated spot distributions indicate that operating in\n",
            "the J band, where spot contrast ratios are minimised, enables variability in\n",
            "only the most active of stars to be detected. These findings affirm the\n",
            "benefits of using the $J$ band for planetary transit searches compared to\n",
            "visible bands. We also serendipitously find a \\Delta J>0.2 mag flaring event\n",
            "from an M4V star in our sample.\n",
            "\n",
            "Label: 0 , Text:   White dwarfs with metal-polluted atmospheres have been studied widely in the\n",
            "context of the accretion of rocky debris from evolved planetary systems. One\n",
            "open question is the geometry of accretion and how material arrives and mixes\n",
            "in the white dwarf surface layers. Using the 3D radiation-hydrodynamics code\n",
            "CO$^5$BOLD, we present the first transport coefficients in degenerate star\n",
            "atmospheres which describe the advection-diffusion of a passive scalar across\n",
            "the surface-plane. We couple newly derived horizontal diffusion coefficients\n",
            "with previously published vertical diffusion coefficients to provide\n",
            "theoretical constraints on surface spreading of metals in white dwarfs. Our\n",
            "grid of 3D simulations probes the vast majority of the parameter space of\n",
            "convective white dwarfs, with pure-hydrogen atmospheres in the effective\n",
            "temperature range 6000-18000 K and pure-helium atmospheres in the range\n",
            "12000-34000 K. Our results suggest that warm hydrogen-rich atmospheres (DA;\n",
            "$\\gtrsim$13000 K) and helium-rich atmospheres (DB, DBA; $\\gtrsim$30000 K) are\n",
            "unable to efficiently spread the accreted metals across their surface,\n",
            "regardless of the time dependence of accretion. This result may be at odds with\n",
            "the current non-detection of surface abundance variations at white dwarfs with\n",
            "debris discs. For cooler hydrogen- and helium-rich atmospheres, we predict a\n",
            "largely homogeneous distribution of metals across the surface within a vertical\n",
            "diffusion timescale. This is typically less than 0.1 per cent of disc lifetime\n",
            "estimates, a quantity which is revisited in this paper using the overshoot\n",
            "results. These results have relevance for studies of the bulk composition of\n",
            "evolved planetary systems and models of accretion disc physics.\n",
            "\n",
            "Label: 1 , Text:   Bars are a key factor in the long-term evolution of spiral galaxies, in their\n",
            "unique role in redistributing angular momentum and transporting gas and stars\n",
            "on large scales. The Eris-suite simulations are cosmological zoom-in, N-body,\n",
            "smoothed-particle hydrodynamic simulations built to follow the formation and\n",
            "evolution of a Milky Way-sized galaxy across the build-up of the large scale\n",
            "structure. Here we analyse and describe the outcome of two particular\n",
            "simulations taken from the Eris suite - ErisBH and Eris2k - which mainly differ\n",
            "in the prescriptions employed for gas cooling, star formation, and feedback\n",
            "from supernovae and black holes. Our study shows that the enhanced effective\n",
            "feedback in Eris2k, due to the collective effect of the different micro-physics\n",
            "implementations, results in a galaxy which is less massive than its ErisBH\n",
            "counterpart till z~1. However, when the stellar content is large enough so that\n",
            "global dynamical instabilities can be triggered, the galaxy in Eris2k develops\n",
            "a stronger and more extended bar with respect to ErisBH. We demonstrate that he\n",
            "structural properties and time evolution of the two bars are very different.\n",
            "Our results highlight the importance of accurate sub-grid prescriptions in\n",
            "cosmological zoom-in simulations of the process of galaxy formation and\n",
            "evolution, and the possible use of a statistical sample of barred galaxies to\n",
            "assess the strength of the stellar feedback.\n",
            "\n",
            "Label: 1 , Text:   We report the results of a pilot study of CO$(4-3)$ emission line of three\n",
            "{\\it WISE}-selected hyper-luminous, dust-obscured quasars (QSOs) with sensitive\n",
            "ALMA Band 3 observations. These obscured QSOs with $L_{\\rm bol}>10^{14}L_\\odot$\n",
            "are among the most luminous objects in the universe. All three QSO hosts are\n",
            "clearly detected both in continuum and in CO$(4-3)$ emission line. Based on\n",
            "CO$(4-3)$ emission line detection, we derive the molecular gas masses ($\\sim\n",
            "10^{10-11}$ M$_\\odot$), suggesting that these QSOs are gas-rich systems. We\n",
            "find that three obscured QSOs in our sample follow the similar $L'_{\\rm CO}-\n",
            "L_{\\rm FIR}$ relation as unobscured QSOs at high redshifts. We also find the\n",
            "complex velocity structures of CO$(4-3)$ emission line, which provide the\n",
            "possible evidence for gas-rich merger in W0149+2350 and possible molecular\n",
            "outflow in W0220+0137 and W0410$-$0913. Massive molecular outflow can blow away\n",
            "the obscured interstellar medium (ISM) and make obscured QSOs evolve towards\n",
            "the UV/optical bright, unobscured phase. Our result is consistent with the\n",
            "popular AGN feedback scenario involving the co-evolution between the SMBH and\n",
            "host galaxy.\n",
            "\n"
          ]
        }
      ]
    },
    {
      "cell_type": "markdown",
      "metadata": {
        "id": "dyapFwQCXHxI"
      },
      "source": [
        ""
      ]
    },
    {
      "cell_type": "markdown",
      "metadata": {
        "id": "_AFAkCSbWGpk"
      },
      "source": [
        "## **<font color=\"#A41034\">Build Data Pipelines</font>**"
      ]
    },
    {
      "cell_type": "markdown",
      "metadata": {
        "id": "T4pSjEafSWRt"
      },
      "source": [
        "#### **Split Data** \n",
        "We split train data into train and validation by randomly selecting 20% as the validation set."
      ]
    },
    {
      "cell_type": "code",
      "metadata": {
        "id": "HoSaYFL7WVeS",
        "colab": {
          "base_uri": "https://localhost:8080/"
        },
        "outputId": "c7cad232-35a8-4cbe-c56f-64ce67b470d2"
      },
      "source": [
        "# Your Code Here\n",
        "validation_percent = 0.20\n",
        "\n",
        "# Split data into train / validate\n",
        "train_x, validate_x, train_y, validate_y = train_test_split(train_x, train_y, test_size=validation_percent)\n",
        "train_x = train_x.values\n",
        "train_y = train_y.values\n",
        "validate_x = validate_x.values\n",
        "validate_y = validate_y.values\n",
        "print(\"train_x count:\",len(train_x))\n",
        "print(\"validate_x count:\",len(validate_x))"
      ],
      "execution_count": 9,
      "outputs": [
        {
          "output_type": "stream",
          "name": "stdout",
          "text": [
            "train_x count: 1260\n",
            "validate_x count: 315\n"
          ]
        }
      ]
    },
    {
      "cell_type": "markdown",
      "metadata": {
        "id": "HEn72pT1TRyi"
      },
      "source": [
        "#### **Text Vectorization**\n",
        "\n",
        "[Reference](https://www.tensorflow.org/api_docs/python/tf/keras/layers/experimental/preprocessing/TextVectorization)\n",
        "\n",
        "Since machines cannot read text directly, we need to transform text into numerical vectors. Here is a common procedure of generating Text Vectors.\n",
        "- Standardize each sample (usually lowercasing + punctuation stripping)\n",
        "- Split each sample into substrings (usually words)\n",
        "- Index tokens (associate a unique int value with each token)\n",
        "- Transform each sample using this index, either into a vector of ints or a dense float vector"
      ]
    },
    {
      "cell_type": "code",
      "metadata": {
        "id": "crrgNlZYYNVL"
      },
      "source": [
        "# Text Vectorization\n",
        "def standardize_text(input_text):\n",
        "  # Convert to lowercase\n",
        "  lowercase = tf.strings.lower(input_text)\n",
        "  # Remove HTML tags\n",
        "  stripped_html = tf.strings.regex_replace(lowercase, \"<br />\", \" \")\n",
        "  return tf.strings.regex_replace(\n",
        "      stripped_html, \"[%s]\" % re.escape(string.punctuation), \"\"\n",
        "  )"
      ],
      "execution_count": 10,
      "outputs": []
    },
    {
      "cell_type": "code",
      "metadata": {
        "colab": {
          "base_uri": "https://localhost:8080/"
        },
        "id": "UEw7Y5iRbwTj",
        "outputId": "98dae86a-d3f0-4b8e-cb46-cca7450d3a35"
      },
      "source": [
        "sequence_length = max([len(x) for x in train_x])\n",
        "sequence_length"
      ],
      "execution_count": 13,
      "outputs": [
        {
          "output_type": "execute_result",
          "data": {
            "text/plain": [
              "1927"
            ]
          },
          "metadata": {},
          "execution_count": 13
        }
      ]
    },
    {
      "cell_type": "code",
      "metadata": {
        "colab": {
          "base_uri": "https://localhost:8080/"
        },
        "id": "_j8sLz2gYbYN",
        "outputId": "d3bd48c8-0f67-49b2-ef03-436e13c774c7"
      },
      "source": [
        "# Define parameters for TextVectorization\n",
        "# max_token controls the vocabulary size based on frequency\n",
        "# output_sequence_length controls the length of each vector. If set, \n",
        "# the initial vector would be padded or truncated to match the specified length.\n",
        "\n",
        "max_features = 17000\n",
        "sequence_length = 2000\n",
        "\n",
        "# Initialize Text Vectorizer\n",
        "text_vectorizer = TextVectorization(\n",
        "    standardize=standardize_text,\n",
        "    max_tokens=max_features,\n",
        "    output_mode=\"int\",\n",
        "    output_sequence_length=sequence_length,\n",
        ")\n",
        "\n",
        "# Create the vocabulary of entire dataset\n",
        "text_data = tf.data.Dataset.from_tensor_slices(train_x)\n",
        "\n",
        "# Generate Text Vector\n",
        "start_time = time.time()\n",
        "text_vectorizer.adapt(text_data.batch(64))\n",
        "execution_time = (time.time() - start_time)/60.0\n",
        "print(\"Execution time (mins)\",execution_time)\n",
        "\n",
        "# Get Vocabulary\n",
        "vocabulary = text_vectorizer.get_vocabulary()\n",
        "vocabulary_size = len(vocabulary)\n",
        "print(\"Vocabulary Size:\",vocabulary_size)\n",
        "# Generate word index\n",
        "word_index = dict(zip(vocabulary, range(vocabulary_size)))"
      ],
      "execution_count": 47,
      "outputs": [
        {
          "output_type": "stream",
          "name": "stdout",
          "text": [
            "Execution time (mins) 0.0027617732683817547\n",
            "Vocabulary Size: 15942\n"
          ]
        }
      ]
    },
    {
      "cell_type": "code",
      "metadata": {
        "colab": {
          "base_uri": "https://localhost:8080/"
        },
        "id": "9PagYtgPZP9w",
        "outputId": "cf34b2ab-cf47-4bd1-f9c0-20f792cd7fe7"
      },
      "source": [
        "# Check Vocabulary : 0 is reserved for padding and index 1 is reserved for \"out of vocabulary\" tokens\n",
        "print(\"Vocabulary:\",vocabulary[:20])\n",
        "print(\"Vocabulary Size:\",len(vocabulary))"
      ],
      "execution_count": 41,
      "outputs": [
        {
          "output_type": "stream",
          "name": "stdout",
          "text": [
            "Vocabulary: ['', '[UNK]', 'the', 'of', 'and', 'in', 'a', 'to', 'we', 'with', 'is', 'that', 'for', 'are', 'from', 'by', 'at', 'on', 'this', 'as']\n",
            "Vocabulary Size: 15942\n"
          ]
        }
      ]
    },
    {
      "cell_type": "code",
      "metadata": {
        "colab": {
          "base_uri": "https://localhost:8080/"
        },
        "id": "cfacJW46Zbvg",
        "outputId": "af49fbf5-5164-42ac-91b4-c26ca870ead9"
      },
      "source": [
        "# Test our text vectorizer\n",
        "test_text = train_x[data_samples[0]]\n",
        "print(test_text)\n",
        "test_text_vector = text_vectorizer([test_text])\n",
        "print(\"Shape:\",test_text_vector.shape)\n",
        "# display only the first 20 tokens of the sample 0\n",
        "print(test_text_vector[0,:20])"
      ],
      "execution_count": 42,
      "outputs": [
        {
          "output_type": "stream",
          "name": "stdout",
          "text": [
            "  Understanding the role of mergers in galaxy formation is one of the most\n",
            "outstanding problems in extragalactic astronomy. While we now have an idea for\n",
            "how the merger fraction evolves at redshifts z < 3, converting this merger\n",
            "fraction into merger rates, and therefore how many mergers an average galaxy\n",
            "undergoes during its history, is still uncertain. The main reason for this is\n",
            "that the inferred number of mergers depends highly upon the time-scale\n",
            "observational methods are sensitive for finding ongoing or past mergers. While\n",
            "there are several theoretical and model-based estimates of merger times, there\n",
            "is currently no empirical measure of this time-scale. We present the first\n",
            "observationally based measurement of merger times utilising the observed\n",
            "decline in the galaxy major merger fraction at z < 1.2 based on > 20,000\n",
            "galaxies in the Extended Groth Strip and COSMOS surveys. Using a new\n",
            "methodology described in this paper, we determine how long a galaxy remains\n",
            "identifiable as a merging system within the CAS system. We find a maximum CAS\n",
            "major merger time-scale of 1.1+/-0.3 Gyr at z < 1.2, and a most likely CAS\n",
            "merger time-scale of 0.6+/-0.3 Gyr, in good agreement with results from N-body\n",
            "simulations. Utilizing this time-scale we measure the number of major mergers\n",
            "galaxies with masses M_{*} > 10^{10} M_0 undergo at z < 1.2, with a total\n",
            "number N_m = 0.90_{-0.23}^{+0.44}. We further show that this time-scale is\n",
            "inconsistent with a star formation origin for ultra-high asymmetries, thereby\n",
            "providing further evidence that structural methods are able to locate mostly\n",
            "merging galaxies.\n",
            "\n",
            "Shape: (1, 2000)\n",
            "tf.Tensor(\n",
            "[ 641    2  473    3  517    5   28   39   10   86    3    2   88 4613\n",
            " 1859    5  845 3493  138    8], shape=(20,), dtype=int64)\n"
          ]
        }
      ]
    },
    {
      "cell_type": "markdown",
      "metadata": {
        "id": "tdbPGHHqbMHG"
      },
      "source": [
        "#### **Create TF Datasets**"
      ]
    },
    {
      "cell_type": "code",
      "metadata": {
        "id": "PC6uT2O_bLXf"
      },
      "source": [
        "BATCH_SIZE = 32\n",
        "TRAIN_SHUFFLE_BUFFER_SIZE = len(train_x)\n",
        "VALIDATION_SHUFFLE_BUFFER_SIZE = len(validate_x)\n",
        "\n",
        "# Converts y to binary class matrix (One-hot-encoded)\n",
        "train_processed_y = to_categorical(train_y, num_classes = num_classes, dtype='float32')\n",
        "validate_processed_y = to_categorical(validate_y, num_classes = num_classes, dtype='float32')\n",
        "\n",
        "# Vetorize Text\n",
        "def vectorize_text(text, label=None):\n",
        "  text = tf.expand_dims(text,-1)\n",
        "  text = text_vectorizer(text)\n",
        "  if label is None:\n",
        "    return text\n",
        "  else:\n",
        "    return text, label\n",
        "\n",
        "# Create TF Dataset\n",
        "train_data = tf.data.Dataset.from_tensor_slices((train_x, train_processed_y))\n",
        "validation_data = tf.data.Dataset.from_tensor_slices((validate_x, validate_processed_y))"
      ],
      "execution_count": 43,
      "outputs": []
    },
    {
      "cell_type": "code",
      "metadata": {
        "colab": {
          "base_uri": "https://localhost:8080/"
        },
        "id": "cBfz0CfUdw6t",
        "outputId": "fbe2e904-93af-4ec2-b613-d9c54a563ee1"
      },
      "source": [
        "#############\n",
        "# Train data\n",
        "#############\n",
        "train_data = train_data.shuffle(buffer_size=TRAIN_SHUFFLE_BUFFER_SIZE)\n",
        "train_data = train_data.batch(BATCH_SIZE)\n",
        "train_data = train_data.map(vectorize_text, num_parallel_calls=AUTOTUNE)\n",
        "train_data = train_data.prefetch(buffer_size=AUTOTUNE)\n",
        "##################\n",
        "# Validation data\n",
        "##################\n",
        "validation_data = validation_data.shuffle(buffer_size=VALIDATION_SHUFFLE_BUFFER_SIZE)\n",
        "validation_data = validation_data.batch(BATCH_SIZE)\n",
        "validation_data = validation_data.map(vectorize_text, num_parallel_calls=AUTOTUNE)\n",
        "validation_data = validation_data.prefetch(buffer_size=AUTOTUNE)\n",
        "\n",
        "print(\"train_data\",train_data)\n",
        "print(\"validation_data\",validation_data)\n"
      ],
      "execution_count": 44,
      "outputs": [
        {
          "output_type": "stream",
          "name": "stdout",
          "text": [
            "train_data <PrefetchDataset shapes: ((None, 2000), (None, 3)), types: (tf.int64, tf.float32)>\n",
            "validation_data <PrefetchDataset shapes: ((None, 2000), (None, 3)), types: (tf.int64, tf.float32)>\n"
          ]
        }
      ]
    },
    {
      "cell_type": "markdown",
      "metadata": {
        "id": "3eJGLU8MWQ_k"
      },
      "source": [
        "## **<font color=\"#A41034\">Build Text Classification Models</font>**"
      ]
    },
    {
      "cell_type": "markdown",
      "metadata": {
        "id": "lTVM9VwHeQyf"
      },
      "source": [
        "#### **Simple Fully Connected Network**\n",
        "\n",
        "* We will start with a simple fully connected neural network. \n",
        "* In this model, each layer is a dense layer\n",
        "* Wer use activation function in  the hidden layers as ReLU. \n",
        "* Since our task is a multiclass classification problem, we use softmax as the activation function in the output layer."
      ]
    },
    {
      "cell_type": "code",
      "metadata": {
        "id": "dRHjRhgKWU0u"
      },
      "source": [
        "# Your Code Here\n",
        "def build_simple_fcn(num_classes, sequence_length):\n",
        "  # Set the model name as\n",
        "  model_name = 'simple_fcn'\n",
        "\n",
        "  # Model input\n",
        "  model_input = keras.layers.Input(shape=(sequence_length))\n",
        "\n",
        "  hidden = keras.layers.Dense(1024, activation=\"relu\")(model_input)\n",
        "  hidden = keras.layers.Dense(1024, activation=\"relu\")(hidden)\n",
        "  hidden = keras.layers.Dense(512, activation=\"relu\")(hidden)\n",
        "  hidden = keras.layers.Dense(512, activation=\"relu\")(hidden)\n",
        "\n",
        "  # Output Layer\n",
        "  output = keras.layers.Dense(units=num_classes, activation='softmax')(hidden)\n",
        "\n",
        "  # Create model\n",
        "  model = Model(inputs=model_input, outputs=output, name=model_name)\n",
        "\n",
        "  return model"
      ],
      "execution_count": 19,
      "outputs": []
    },
    {
      "cell_type": "code",
      "metadata": {
        "id": "w3lLaqWPfqcc"
      },
      "source": [
        "# Create an experiment\n",
        "create_experiment()"
      ],
      "execution_count": 20,
      "outputs": []
    },
    {
      "cell_type": "code",
      "metadata": {
        "colab": {
          "base_uri": "https://localhost:8080/",
          "height": 1000
        },
        "id": "WK3QTsvreddP",
        "outputId": "c908bbee-cc4f-4c20-e57f-1aa705f85640"
      },
      "source": [
        "############################\n",
        "# Training Params\n",
        "############################\n",
        "learning_rate = 0.01\n",
        "epochs = 10\n",
        "\n",
        "# Free up memory\n",
        "K.clear_session()\n",
        "\n",
        "# Build the model\n",
        "model = build_simple_fcn(num_classes, sequence_length)\n",
        "\n",
        "# Print the model architecture\n",
        "print(model.summary())\n",
        "\n",
        "# Optimizer\n",
        "optimizer = keras.optimizers.Adam(learning_rate=learning_rate)\n",
        "# Loss\n",
        "loss = keras.losses.categorical_crossentropy\n",
        "\n",
        "# Compile\n",
        "model.compile(loss=loss,\n",
        "                  optimizer=optimizer,\n",
        "                  metrics=['accuracy'])\n",
        "\n",
        "# Train model\n",
        "start_time = time.time()\n",
        "training_results = model.fit(\n",
        "        train_data,\n",
        "        validation_data=validation_data,\n",
        "        epochs=epochs, \n",
        "        verbose=1)\n",
        "execution_time = (time.time() - start_time)/60.0\n",
        "print(\"Training execution time (mins)\",execution_time)\n",
        "\n",
        "evaluate_save_model(model,validation_data, training_results,execution_time, learning_rate, BATCH_SIZE, epochs, optimizer,save=True)"
      ],
      "execution_count": 21,
      "outputs": [
        {
          "output_type": "stream",
          "name": "stdout",
          "text": [
            "Model: \"simple_fcn\"\n",
            "_________________________________________________________________\n",
            "Layer (type)                 Output Shape              Param #   \n",
            "=================================================================\n",
            "input_1 (InputLayer)         [(None, 2000)]            0         \n",
            "_________________________________________________________________\n",
            "dense (Dense)                (None, 1024)              2049024   \n",
            "_________________________________________________________________\n",
            "dense_1 (Dense)              (None, 1024)              1049600   \n",
            "_________________________________________________________________\n",
            "dense_2 (Dense)              (None, 512)               524800    \n",
            "_________________________________________________________________\n",
            "dense_3 (Dense)              (None, 512)               262656    \n",
            "_________________________________________________________________\n",
            "dense_4 (Dense)              (None, 3)                 1539      \n",
            "=================================================================\n",
            "Total params: 3,887,619\n",
            "Trainable params: 3,887,619\n",
            "Non-trainable params: 0\n",
            "_________________________________________________________________\n",
            "None\n",
            "Epoch 1/10\n",
            "40/40 [==============================] - 3s 10ms/step - loss: 6449.3438 - accuracy: 0.3270 - val_loss: 3.7298 - val_accuracy: 0.3714\n",
            "Epoch 2/10\n",
            "40/40 [==============================] - 0s 5ms/step - loss: 22.1187 - accuracy: 0.3286 - val_loss: 1.2757 - val_accuracy: 0.3333\n",
            "Epoch 3/10\n",
            "40/40 [==============================] - 0s 5ms/step - loss: 6.8379 - accuracy: 0.3357 - val_loss: 1.1210 - val_accuracy: 0.3492\n",
            "Epoch 4/10\n",
            "40/40 [==============================] - 0s 5ms/step - loss: 1.1129 - accuracy: 0.3302 - val_loss: 1.0991 - val_accuracy: 0.3175\n",
            "Epoch 5/10\n",
            "40/40 [==============================] - 0s 5ms/step - loss: 1.0992 - accuracy: 0.3389 - val_loss: 1.0988 - val_accuracy: 0.3175\n",
            "Epoch 6/10\n",
            "40/40 [==============================] - 0s 5ms/step - loss: 1.0989 - accuracy: 0.3389 - val_loss: 1.0998 - val_accuracy: 0.3175\n",
            "Epoch 7/10\n",
            "40/40 [==============================] - 0s 5ms/step - loss: 1.0998 - accuracy: 0.3135 - val_loss: 1.0991 - val_accuracy: 0.3175\n",
            "Epoch 8/10\n",
            "40/40 [==============================] - 0s 5ms/step - loss: 1.0991 - accuracy: 0.3167 - val_loss: 1.0987 - val_accuracy: 0.3175\n",
            "Epoch 9/10\n",
            "40/40 [==============================] - 0s 6ms/step - loss: 1.0993 - accuracy: 0.3389 - val_loss: 1.0993 - val_accuracy: 0.3175\n",
            "Epoch 10/10\n",
            "40/40 [==============================] - 0s 5ms/step - loss: 1.0996 - accuracy: 0.3190 - val_loss: 1.1000 - val_accuracy: 0.3175\n",
            "Training execution time (mins) 0.08366254568099976\n"
          ]
        },
        {
          "output_type": "display_data",
          "data": {
            "image/png": "[encoded data removed]",
            "text/plain": [
              "<Figure size 1080x360 with 2 Axes>"
            ]
          },
          "metadata": {
            "needs_background": "light"
          }
        },
        {
          "output_type": "stream",
          "name": "stdout",
          "text": [
            "10/10 [==============================] - 0s 3ms/step - loss: 1.1000 - accuracy: 0.3175\n",
            "[1.0999512672424316, 0.3174603283405304]\n"
          ]
        }
      ]
    },
    {
      "cell_type": "markdown",
      "metadata": {
        "id": "zDcau91Vfx4X"
      },
      "source": [
        "#### **Simple Fully Connected Network with Embedding**\n",
        "\n",
        "* Let's add an embedding layer to the previous simple fully connected network"
      ]
    },
    {
      "cell_type": "code",
      "metadata": {
        "id": "8J35WR8pfxA0"
      },
      "source": [
        "def build_simple_fcn_with_emb(num_classes, sequence_length, vocab_size, embedding_dim):\n",
        "  #Set the model name as\n",
        "    model_name = 'simple_fcn_emb'\n",
        "\n",
        "    # Model input\n",
        "    model_input = keras.layers.Input(shape=(sequence_length))\n",
        "\n",
        "    hidden = keras.layers.Embedding(input_dim=vocab_size, output_dim=embedding_dim)(model_input)\n",
        "    hidden = keras.layers.Flatten()(hidden)\n",
        "    hidden = keras.layers.Dense(1024, activation=\"relu\")(hidden)\n",
        "    hidden = keras.layers.Dense(512, activation=\"relu\")(hidden)\n",
        "\n",
        "    # Output Layer\n",
        "    output = keras.layers.Dense(units=num_classes, activation='softmax')(hidden)\n",
        "\n",
        "    # Create model\n",
        "    model = Model(inputs=model_input, outputs=output, name=model_name)\n",
        "\n",
        "    return model"
      ],
      "execution_count": 22,
      "outputs": []
    },
    {
      "cell_type": "code",
      "metadata": {
        "id": "GrzSHMdngKGv"
      },
      "source": [
        "# Create an experiment\n",
        "create_experiment()"
      ],
      "execution_count": 23,
      "outputs": []
    },
    {
      "cell_type": "code",
      "metadata": {
        "colab": {
          "base_uri": "https://localhost:8080/",
          "height": 1000
        },
        "id": "1LymhhaTgMrL",
        "outputId": "8678efe6-efdf-4b52-911e-254e895c79f2"
      },
      "source": [
        "############################\n",
        "# Training Params\n",
        "############################\n",
        "learning_rate = 0.01\n",
        "epochs = 10\n",
        "embedding_dim = 100\n",
        "\n",
        "# Free up memory\n",
        "K.clear_session()\n",
        "\n",
        "# Build the model\n",
        "model = build_simple_fcn_with_emb(num_classes, sequence_length, vocabulary_size,embedding_dim)\n",
        "\n",
        "# Print the model architecture\n",
        "print(model.summary())\n",
        "\n",
        "# Optimizer\n",
        "optimizer = keras.optimizers.Adam(learning_rate=learning_rate)\n",
        "# Loss\n",
        "loss = keras.losses.categorical_crossentropy\n",
        "\n",
        "# Compile\n",
        "model.compile(loss=loss,\n",
        "                  optimizer=optimizer,\n",
        "                  metrics=['accuracy'])\n",
        "\n",
        "# Train model\n",
        "start_time = time.time()\n",
        "training_results = model.fit(\n",
        "        train_data,\n",
        "        validation_data=validation_data,\n",
        "        epochs=epochs, \n",
        "        verbose=1)\n",
        "execution_time = (time.time() - start_time)/60.0\n",
        "print(\"Training execution time (mins)\",execution_time)\n",
        "\n",
        "evaluate_save_model(model,validation_data, training_results,execution_time, learning_rate, BATCH_SIZE, epochs, optimizer,save=True)"
      ],
      "execution_count": 25,
      "outputs": [
        {
          "output_type": "stream",
          "name": "stdout",
          "text": [
            "Model: \"simple_fcn_emb\"\n",
            "_________________________________________________________________\n",
            "Layer (type)                 Output Shape              Param #   \n",
            "=================================================================\n",
            "input_3 (InputLayer)         [(None, 2000)]            0         \n",
            "_________________________________________________________________\n",
            "embedding (Embedding)        (None, 2000, 100)         1594200   \n",
            "_________________________________________________________________\n",
            "flatten (Flatten)            (None, 200000)            0         \n",
            "_________________________________________________________________\n",
            "dense (Dense)                (None, 1024)              204801024 \n",
            "_________________________________________________________________\n",
            "dense_1 (Dense)              (None, 512)               524800    \n",
            "_________________________________________________________________\n",
            "dense_2 (Dense)              (None, 3)                 1539      \n",
            "=================================================================\n",
            "Total params: 206,921,563\n",
            "Trainable params: 206,921,563\n",
            "Non-trainable params: 0\n",
            "_________________________________________________________________\n",
            "None\n",
            "Epoch 1/10\n",
            "40/40 [==============================] - 2s 37ms/step - loss: 55.7812 - accuracy: 0.3310 - val_loss: 1.2095 - val_accuracy: 0.3175\n",
            "Epoch 2/10\n",
            "40/40 [==============================] - 1s 34ms/step - loss: 0.9711 - accuracy: 0.5000 - val_loss: 1.0395 - val_accuracy: 0.5111\n",
            "Epoch 3/10\n",
            "40/40 [==============================] - 1s 34ms/step - loss: 0.4570 - accuracy: 0.8095 - val_loss: 1.1613 - val_accuracy: 0.4063\n",
            "Epoch 4/10\n",
            "40/40 [==============================] - 1s 34ms/step - loss: 0.1397 - accuracy: 0.9476 - val_loss: 0.6651 - val_accuracy: 0.7492\n",
            "Epoch 5/10\n",
            "40/40 [==============================] - 1s 34ms/step - loss: 0.0165 - accuracy: 0.9944 - val_loss: 0.7965 - val_accuracy: 0.7302\n",
            "Epoch 6/10\n",
            "40/40 [==============================] - 1s 34ms/step - loss: 0.0111 - accuracy: 0.9968 - val_loss: 1.9662 - val_accuracy: 0.4857\n",
            "Epoch 7/10\n",
            "40/40 [==============================] - 1s 34ms/step - loss: 0.0034 - accuracy: 0.9992 - val_loss: 1.1944 - val_accuracy: 0.6825\n",
            "Epoch 8/10\n",
            "40/40 [==============================] - 1s 34ms/step - loss: 0.0087 - accuracy: 0.9976 - val_loss: 1.6160 - val_accuracy: 0.6730\n",
            "Epoch 9/10\n",
            "40/40 [==============================] - 1s 34ms/step - loss: 0.0035 - accuracy: 0.9984 - val_loss: 1.9101 - val_accuracy: 0.6476\n",
            "Epoch 10/10\n",
            "40/40 [==============================] - 1s 34ms/step - loss: 1.8119e-05 - accuracy: 1.0000 - val_loss: 3.3247 - val_accuracy: 0.5587\n",
            "Training execution time (mins) 0.24348620971043905\n"
          ]
        },
        {
          "output_type": "display_data",
          "data": {
            "image/png": "[encoded data removed]",
            "text/plain": [
              "<Figure size 1080x360 with 2 Axes>"
            ]
          },
          "metadata": {
            "needs_background": "light"
          }
        },
        {
          "output_type": "stream",
          "name": "stdout",
          "text": [
            "10/10 [==============================] - 0s 9ms/step - loss: 3.3247 - accuracy: 0.5587\n",
            "[3.3247392177581787, 0.5587301850318909]\n"
          ]
        }
      ]
    },
    {
      "cell_type": "markdown",
      "metadata": {
        "id": "HR90Vgpej0I5"
      },
      "source": [
        "#### **Conv1D Network with Embedding**\n",
        "\n",
        "* Next let us use Conv1D layers to build the model"
      ]
    },
    {
      "cell_type": "code",
      "metadata": {
        "id": "seX9gEA-j1Ej"
      },
      "source": [
        "def build_conv1d_emb(num_classes,sequence_length, vocab_size, embedding_dim):\n",
        "  # Set the model name as\n",
        "  model_name = 'conv1d_emb'\n",
        "\n",
        "  # Model input\n",
        "  model_input = keras.layers.Input(shape=(sequence_length))\n",
        "\n",
        "  # Embedding Layer\n",
        "  hidden = keras.layers.Embedding(input_dim=vocab_size, output_dim=embedding_dim, name=\"embedding\")(model_input)\n",
        "\n",
        "  # Conv1D + Global Max Pooling\n",
        "  hidden = keras.layers.Conv1D(filters=256, kernel_size=5, padding=\"valid\", activation=\"relu\", strides=3)(hidden)\n",
        "  hidden = keras.layers.GlobalMaxPooling1D()(hidden)\n",
        "\n",
        "  # Dense Layer\n",
        "  hidden = keras.layers.Dense(units=128, activation=\"relu\")(hidden)\n",
        "\n",
        "  # Output Layer\n",
        "  output = keras.layers.Dense(units=num_classes, activation='softmax')(hidden)\n",
        "\n",
        "  # Create model\n",
        "  model = Model(inputs=model_input, outputs=output, name=model_name)\n",
        "\n",
        "  return model"
      ],
      "execution_count": 26,
      "outputs": []
    },
    {
      "cell_type": "code",
      "metadata": {
        "id": "DngLdeEAj-0k"
      },
      "source": [
        "# Create an experiment\n",
        "create_experiment()"
      ],
      "execution_count": 27,
      "outputs": []
    },
    {
      "cell_type": "code",
      "metadata": {
        "colab": {
          "base_uri": "https://localhost:8080/",
          "height": 1000
        },
        "id": "5xaxEyPWj3lg",
        "outputId": "86291b1a-a3d0-46c2-d6b2-6a7a6362868a"
      },
      "source": [
        "############################\n",
        "# Training Params\n",
        "############################\n",
        "learning_rate = 0.01\n",
        "epochs = 10\n",
        "embedding_dim = 100\n",
        "\n",
        "# Free up memory\n",
        "K.clear_session()\n",
        "\n",
        "# Build the model\n",
        "model = build_conv1d_emb(num_classes, sequence_length, vocabulary_size,embedding_dim)\n",
        "\n",
        "# Print the model architecture\n",
        "print(model.summary())\n",
        "\n",
        "# Optimizer\n",
        "optimizer = keras.optimizers.Adam(learning_rate=learning_rate)\n",
        "# Loss\n",
        "loss = keras.losses.categorical_crossentropy\n",
        "\n",
        "# Compile\n",
        "model.compile(loss=loss,\n",
        "                  optimizer=optimizer,\n",
        "                  metrics=['accuracy'])\n",
        "\n",
        "# Train model\n",
        "start_time = time.time()\n",
        "training_results = model.fit(\n",
        "        train_data,\n",
        "        validation_data=validation_data,\n",
        "        epochs=epochs, \n",
        "        verbose=1)\n",
        "execution_time = (time.time() - start_time)/60.0\n",
        "print(\"Training execution time (mins)\",execution_time)\n",
        "\n",
        "evaluate_save_model(model,validation_data, training_results,execution_time, learning_rate, BATCH_SIZE, epochs, optimizer,save=True)"
      ],
      "execution_count": 28,
      "outputs": [
        {
          "output_type": "stream",
          "name": "stdout",
          "text": [
            "Model: \"conv1d_emb\"\n",
            "_________________________________________________________________\n",
            "Layer (type)                 Output Shape              Param #   \n",
            "=================================================================\n",
            "input_4 (InputLayer)         [(None, 2000)]            0         \n",
            "_________________________________________________________________\n",
            "embedding (Embedding)        (None, 2000, 100)         1594200   \n",
            "_________________________________________________________________\n",
            "conv1d (Conv1D)              (None, 666, 256)          128256    \n",
            "_________________________________________________________________\n",
            "global_max_pooling1d (Global (None, 256)               0         \n",
            "_________________________________________________________________\n",
            "dense (Dense)                (None, 128)               32896     \n",
            "_________________________________________________________________\n",
            "dense_1 (Dense)              (None, 3)                 387       \n",
            "=================================================================\n",
            "Total params: 1,755,739\n",
            "Trainable params: 1,755,739\n",
            "Non-trainable params: 0\n",
            "_________________________________________________________________\n",
            "None\n",
            "Epoch 1/10\n",
            "40/40 [==============================] - 16s 18ms/step - loss: 0.8441 - accuracy: 0.5849 - val_loss: 0.5314 - val_accuracy: 0.7810\n",
            "Epoch 2/10\n",
            "40/40 [==============================] - 1s 14ms/step - loss: 0.3232 - accuracy: 0.8810 - val_loss: 0.9110 - val_accuracy: 0.6635\n",
            "Epoch 3/10\n",
            "40/40 [==============================] - 1s 14ms/step - loss: 0.0574 - accuracy: 0.9810 - val_loss: 1.1229 - val_accuracy: 0.7206\n",
            "Epoch 4/10\n",
            "40/40 [==============================] - 1s 14ms/step - loss: 0.0068 - accuracy: 0.9976 - val_loss: 1.0851 - val_accuracy: 0.7556\n",
            "Epoch 5/10\n",
            "40/40 [==============================] - 1s 14ms/step - loss: 0.0011 - accuracy: 1.0000 - val_loss: 1.0766 - val_accuracy: 0.7587\n",
            "Epoch 6/10\n",
            "40/40 [==============================] - 1s 14ms/step - loss: 1.6786e-04 - accuracy: 1.0000 - val_loss: 1.0782 - val_accuracy: 0.7714\n",
            "Epoch 7/10\n",
            "40/40 [==============================] - 1s 14ms/step - loss: 4.0711e-05 - accuracy: 1.0000 - val_loss: 1.0776 - val_accuracy: 0.7714\n",
            "Epoch 8/10\n",
            "40/40 [==============================] - 1s 14ms/step - loss: 3.2275e-05 - accuracy: 1.0000 - val_loss: 1.0788 - val_accuracy: 0.7651\n",
            "Epoch 9/10\n",
            "40/40 [==============================] - 1s 14ms/step - loss: 2.7869e-05 - accuracy: 1.0000 - val_loss: 1.0824 - val_accuracy: 0.7651\n",
            "Epoch 10/10\n",
            "40/40 [==============================] - 1s 14ms/step - loss: 2.4496e-05 - accuracy: 1.0000 - val_loss: 1.0857 - val_accuracy: 0.7587\n",
            "Training execution time (mins) 0.3492287516593933\n"
          ]
        },
        {
          "output_type": "display_data",
          "data": {
            "image/png": "[encoded data removed]",
            "text/plain": [
              "<Figure size 1080x360 with 2 Axes>"
            ]
          },
          "metadata": {
            "needs_background": "light"
          }
        },
        {
          "output_type": "stream",
          "name": "stdout",
          "text": [
            "10/10 [==============================] - 0s 4ms/step - loss: 1.0857 - accuracy: 0.7587\n",
            "[1.0857378244400024, 0.7587301731109619]\n"
          ]
        }
      ]
    },
    {
      "cell_type": "markdown",
      "metadata": {
        "id": "Ruh93y3UkNgg"
      },
      "source": [
        "#### **Conv1D Network with pretrained Embedding**\n",
        "\n",
        "* Alternatively, we could initialize embeddings with pre-trained word embeddings.\n",
        "* Specifically, let's try GloVe embeddings. GloVe stands for Global Vectors, which is an open-source project developed by Stanford. It contains pre-trained word representations in various sizes, including 50-dimensional, 100-dimensional, 200-dimensional, and 300-dimensional.\n",
        "\n",
        "* In this model, we choose the 100d version.\n",
        "\n",
        "[Reference](http://nlp.stanford.edu/projects/glove/)"
      ]
    },
    {
      "cell_type": "markdown",
      "metadata": {
        "id": "UOe46G3wkQGN"
      },
      "source": [
        "#### **Prepare Embedding**\n",
        "\n",
        "We need to prepare the pretrained embedding to use in our model"
      ]
    },
    {
      "cell_type": "code",
      "metadata": {
        "id": "9zFHKragkmSx"
      },
      "source": [
        "# Download Glove pretrained embeddings\n",
        "download_file(\"https://github.com/shivasj/dataset-store/releases/download/v3.0/glove.6B.100d.txt.zip\", \n",
        "              base_path=\"embedding\", extract=True)"
      ],
      "execution_count": 30,
      "outputs": []
    },
    {
      "cell_type": "code",
      "metadata": {
        "colab": {
          "base_uri": "https://localhost:8080/"
        },
        "id": "r8D1TErykMq5",
        "outputId": "a0d810dc-170a-4af6-acae-4b8ac5bd5f5b"
      },
      "source": [
        "EMBEDDING_FILE = os.path.join(\"embedding\",\"glove.6B.100d.txt\")\n",
        "\n",
        "embeddings_index = {}\n",
        "with open(EMBEDDING_FILE) as f:\n",
        "    for line in f:\n",
        "        word, coefs = line.split(maxsplit=1)\n",
        "        coefs = np.fromstring(coefs, \"f\", sep=\" \")\n",
        "        embeddings_index[word] = coefs\n",
        "\n",
        "print(\"Number of word vectors:\",len(embeddings_index))"
      ],
      "execution_count": 31,
      "outputs": [
        {
          "output_type": "stream",
          "name": "stdout",
          "text": [
            "Number of word vectors: 400000\n"
          ]
        }
      ]
    },
    {
      "cell_type": "code",
      "metadata": {
        "colab": {
          "base_uri": "https://localhost:8080/"
        },
        "id": "-u2K9cC6kt0s",
        "outputId": "e51f79cb-5a78-47df-c4b6-b0c5779ab8ba"
      },
      "source": [
        "# View some word embeddings\n",
        "sample_embeddings_words = list(embeddings_index.keys())[:10]\n",
        "for word in sample_embeddings_words:\n",
        "  print(word,\":\",embeddings_index[word][:5],\", Shape:\", embeddings_index[word].shape)"
      ],
      "execution_count": 32,
      "outputs": [
        {
          "output_type": "stream",
          "name": "stdout",
          "text": [
            "the : [-0.038194 -0.24487   0.72812  -0.39961   0.083172] , Shape: (100,)\n",
            ", : [-0.10767  0.11053  0.59812 -0.54361  0.67396] , Shape: (100,)\n",
            ". : [-0.33979  0.20941  0.46348 -0.64792 -0.38377] , Shape: (100,)\n",
            "of : [-0.1529  -0.24279  0.89837  0.16996  0.53516] , Shape: (100,)\n",
            "to : [-0.1897    0.050024  0.19084  -0.049184 -0.089737] , Shape: (100,)\n",
            "and : [-0.071953  0.23127   0.023731 -0.50638   0.33923 ] , Shape: (100,)\n",
            "in : [ 0.085703 -0.22201   0.16569   0.13373   0.38239 ] , Shape: (100,)\n",
            "a : [-0.27086   0.044006 -0.02026  -0.17395   0.6444  ] , Shape: (100,)\n",
            "\" : [-0.30457 -0.23645  0.17576 -0.72854 -0.28343] , Shape: (100,)\n",
            "'s : [ 0.58854 -0.2025   0.73479 -0.68338 -0.19675] , Shape: (100,)\n"
          ]
        }
      ]
    },
    {
      "cell_type": "code",
      "metadata": {
        "colab": {
          "base_uri": "https://localhost:8080/"
        },
        "id": "y8gcqk9jkvnE",
        "outputId": "c40c03f5-d4d9-4863-bb6a-a3ebdfcbeb69"
      },
      "source": [
        "# Prepare embedding matrix\n",
        "embedding_dim = 100\n",
        "embedding_matrix = np.zeros((max_features, embedding_dim))\n",
        "oov = {}    \n",
        "n_covered = 0\n",
        "n_oov = 0\n",
        "for word, i in word_index.items():\n",
        "    embedding_vector = embeddings_index.get(word)\n",
        "    if embedding_vector is not None:\n",
        "      embedding_matrix[i] = embedding_vector\n",
        "    else:\n",
        "      n_oov += 1\n",
        "\n",
        "text_coverage = (vocabulary_size-n_oov)/vocabulary_size\n",
        "print(\"Text Coverage:\",text_coverage)\n",
        "\n",
        "print(\"Embedding Matrix, Shape\" ,embedding_matrix.shape)"
      ],
      "execution_count": 33,
      "outputs": [
        {
          "output_type": "stream",
          "name": "stdout",
          "text": [
            "Text Coverage: 0.5930247145903902\n",
            "Embedding Matrix, Shape (17000, 100)\n"
          ]
        }
      ]
    },
    {
      "cell_type": "code",
      "metadata": {
        "colab": {
          "base_uri": "https://localhost:8080/"
        },
        "id": "WarxgMbNkyvj",
        "outputId": "1d799c20-5dc8-4170-ce68-5cfb2f1d7191"
      },
      "source": [
        "# Test oov\n",
        "print(embeddings_index.get('covid'))"
      ],
      "execution_count": 34,
      "outputs": [
        {
          "output_type": "stream",
          "name": "stdout",
          "text": [
            "None\n"
          ]
        }
      ]
    },
    {
      "cell_type": "code",
      "metadata": {
        "id": "MiR9DeCok0tl"
      },
      "source": [
        "def build_conv1d_pretrained_emb(num_classes,sequence_length, vocab_size, embedding_dim):\n",
        "  # Set the model name as\n",
        "  model_name = 'conv1d_pretrained_emb'\n",
        "\n",
        "  # Model input\n",
        "  model_input = keras.layers.Input(shape=(sequence_length))\n",
        "\n",
        "  # Embedding Layer, with pre-trained weights\n",
        "  hidden = keras.layers.Embedding(input_dim=vocab_size, \n",
        "                            output_dim=embedding_dim, \n",
        "                            embeddings_initializer=keras.initializers.Constant(embedding_matrix), # Load pre-trained weights\n",
        "                            trainable=False, # Set Trainable to False\n",
        "                            name=\"embedding\")(model_input)\n",
        "\n",
        "  # Conv1D + Global Max Pooling\n",
        "  hidden = keras.layers.Conv1D(filters=256, kernel_size=5, padding=\"valid\", activation=\"relu\", strides=3)(hidden)\n",
        "  hidden = keras.layers.GlobalMaxPooling1D()(hidden)\n",
        "\n",
        "  # Dense Layer\n",
        "  hidden = keras.layers.Dense(units=128, activation=\"relu\")(hidden)\n",
        "\n",
        "  # Output Layer\n",
        "  output = keras.layers.Dense(units=num_classes, activation='softmax')(hidden)\n",
        "\n",
        "  # Create model\n",
        "  model = Model(inputs=model_input, outputs=output, name=model_name)\n",
        "\n",
        "  return model"
      ],
      "execution_count": 35,
      "outputs": []
    },
    {
      "cell_type": "code",
      "metadata": {
        "id": "v2NyYwkik7dK"
      },
      "source": [
        "# Create an experiment\n",
        "create_experiment()"
      ],
      "execution_count": 36,
      "outputs": []
    },
    {
      "cell_type": "code",
      "metadata": {
        "colab": {
          "base_uri": "https://localhost:8080/",
          "height": 1000
        },
        "id": "aoX0bZ88k4rJ",
        "outputId": "3fc13643-2e82-494c-c720-31bbb7552265"
      },
      "source": [
        "############################\n",
        "# Training Params\n",
        "############################\n",
        "learning_rate = 0.01\n",
        "epochs = 10\n",
        "embedding_dim = 100\n",
        "\n",
        "# Free up memory\n",
        "K.clear_session()\n",
        "\n",
        "# Build the model\n",
        "model = build_conv1d_pretrained_emb(num_classes, sequence_length, 17000, embedding_dim)\n",
        "\n",
        "# Print the model architecture\n",
        "print(model.summary())\n",
        "\n",
        "# Optimizer\n",
        "optimizer = keras.optimizers.Adam(learning_rate=learning_rate)\n",
        "# Loss\n",
        "loss = keras.losses.categorical_crossentropy\n",
        "\n",
        "# Compile\n",
        "model.compile(loss=loss,\n",
        "                  optimizer=optimizer,\n",
        "                  metrics=['accuracy'])\n",
        "\n",
        "# Train model\n",
        "start_time = time.time()\n",
        "training_results = model.fit(\n",
        "        train_data,\n",
        "        validation_data=validation_data,\n",
        "        epochs=epochs, \n",
        "        verbose=1)\n",
        "execution_time = (time.time() - start_time)/60.0\n",
        "print(\"Training execution time (mins)\",execution_time)\n",
        "\n",
        "evaluate_save_model(model,validation_data, training_results,execution_time, learning_rate, BATCH_SIZE, epochs, optimizer,save=True)"
      ],
      "execution_count": 48,
      "outputs": [
        {
          "output_type": "stream",
          "name": "stdout",
          "text": [
            "Model: \"conv1d_pretrained_emb\"\n",
            "_________________________________________________________________\n",
            "Layer (type)                 Output Shape              Param #   \n",
            "=================================================================\n",
            "input_9 (InputLayer)         [(None, 2000)]            0         \n",
            "_________________________________________________________________\n",
            "embedding (Embedding)        (None, 2000, 100)         1700000   \n",
            "_________________________________________________________________\n",
            "conv1d (Conv1D)              (None, 666, 256)          128256    \n",
            "_________________________________________________________________\n",
            "global_max_pooling1d (Global (None, 256)               0         \n",
            "_________________________________________________________________\n",
            "dense (Dense)                (None, 128)               32896     \n",
            "_________________________________________________________________\n",
            "dense_1 (Dense)              (None, 3)                 387       \n",
            "=================================================================\n",
            "Total params: 1,861,539\n",
            "Trainable params: 161,539\n",
            "Non-trainable params: 1,700,000\n",
            "_________________________________________________________________\n",
            "None\n",
            "Epoch 1/10\n",
            "40/40 [==============================] - 1s 12ms/step - loss: 1.3019 - accuracy: 0.4103 - val_loss: 0.8948 - val_accuracy: 0.5905\n",
            "Epoch 2/10\n",
            "40/40 [==============================] - 0s 8ms/step - loss: 0.6275 - accuracy: 0.7230 - val_loss: 0.7379 - val_accuracy: 0.6730\n",
            "Epoch 3/10\n",
            "40/40 [==============================] - 0s 8ms/step - loss: 0.3023 - accuracy: 0.8722 - val_loss: 0.8868 - val_accuracy: 0.6825\n",
            "Epoch 4/10\n",
            "40/40 [==============================] - 0s 8ms/step - loss: 0.1495 - accuracy: 0.9484 - val_loss: 0.9182 - val_accuracy: 0.7111\n",
            "Epoch 5/10\n",
            "40/40 [==============================] - 0s 8ms/step - loss: 0.0340 - accuracy: 0.9881 - val_loss: 0.9272 - val_accuracy: 0.7143\n",
            "Epoch 6/10\n",
            "40/40 [==============================] - 0s 8ms/step - loss: 0.0060 - accuracy: 0.9992 - val_loss: 1.0133 - val_accuracy: 0.7238\n",
            "Epoch 7/10\n",
            "40/40 [==============================] - 0s 8ms/step - loss: 0.0013 - accuracy: 1.0000 - val_loss: 1.0265 - val_accuracy: 0.7302\n",
            "Epoch 8/10\n",
            "40/40 [==============================] - 0s 8ms/step - loss: 6.8876e-04 - accuracy: 1.0000 - val_loss: 1.0375 - val_accuracy: 0.7302\n",
            "Epoch 9/10\n",
            "40/40 [==============================] - 0s 8ms/step - loss: 5.0949e-04 - accuracy: 1.0000 - val_loss: 1.0423 - val_accuracy: 0.7333\n",
            "Epoch 10/10\n",
            "40/40 [==============================] - 0s 9ms/step - loss: 4.0829e-04 - accuracy: 1.0000 - val_loss: 1.0580 - val_accuracy: 0.7333\n",
            "Training execution time (mins) 0.07317694822947184\n"
          ]
        },
        {
          "output_type": "display_data",
          "data": {
            "image/png": "[encoded data removed]",
            "text/plain": [
              "<Figure size 1080x360 with 2 Axes>"
            ]
          },
          "metadata": {
            "needs_background": "light"
          }
        },
        {
          "output_type": "stream",
          "name": "stdout",
          "text": [
            "10/10 [==============================] - 0s 4ms/step - loss: 1.0580 - accuracy: 0.7333\n",
            "[1.0579866170883179, 0.7333333492279053]\n"
          ]
        }
      ]
    },
    {
      "cell_type": "markdown",
      "metadata": {
        "id": "8hzaAPLUmTbi"
      },
      "source": [
        "#### **Text Classification using pretrained BERT**"
      ]
    },
    {
      "cell_type": "markdown",
      "metadata": {
        "id": "xceToZyxmVmA"
      },
      "source": [
        "#### **Build Data Pipelines**"
      ]
    },
    {
      "cell_type": "markdown",
      "metadata": {
        "id": "fi3SRYlYmb2r"
      },
      "source": [
        "##### Text Tokenization ([Reference](https://huggingface.co/transformers/model_doc/bert.html#berttokenizer))"
      ]
    },
    {
      "cell_type": "code",
      "metadata": {
        "colab": {
          "base_uri": "https://localhost:8080/",
          "height": 146,
          "referenced_widgets": [
            "4981e4c68d384183963f082614c85384",
            "82cc15a933d040989f9300ce735dbfe8",
            "0925b58f3425410385d4a8ae575c3b6a",
            "88f41991caa249abb980de229898c7b5",
            "d9c94b8bd0f74274b1f531cc1d552a8a",
            "c7d485022e084a4aabf530f179205321",
            "517f7dac67a24e429ee48c373a4cede5",
            "78cbe12219ca4cca82eec7d442abff23",
            "3d2bf8928d964b62a6cfc5a8ed4d79d4",
            "f460a2b303e24d9b97a669f6b5fd15f9",
            "4a312b226d3247bab8f7b80fe198fe82",
            "101026f165de44fb95c0eaaad390a09f",
            "141ffb17465845b9891c42f3132672de",
            "8bbc0d05a15a46b1ae6f70622fa55c4d",
            "7e8b35ec91eb4941ac8995447d412e19",
            "38d48858faa9457585a0f40cc1ac0c77",
            "28246b0d5b464cefa2cb37d5696eb36f",
            "09996407265f481a8c3a3405605721e7",
            "10ac07274cfc4909976ce79de2515643",
            "1b69033fab134d198bf513cf228d973f",
            "09d544096d834b169d82273afe625390",
            "6162d3bde32a48ffbb51bfb2dd4e9dc9",
            "a021d15a851941bbaebb916070897603",
            "f3b41bc33541427b964014930f87bef0",
            "683bd34f8e844e858faa3e427b459b88",
            "077cde8be9d04074824ed4f0349ced37",
            "e19973fcc0624fcfbb9abb6a94c4990c",
            "9858affd1894464e8e96e128717982e7",
            "04f875ba3c1d4b2a8bf5724b3584cfc5",
            "92f73dde3a6f45679efe7a0367d035fa",
            "f199d9aecc434b2f81c4dfa7345b3862",
            "c3da9e9c76224b9e8f3a16e3407e13de",
            "27e5f42a668f4c40b85bc3fa5e3eddfc",
            "2669d9facb644bcdac9b89863db2555c",
            "5caa1c8a1b794abfa5b9e211529ab170",
            "775e92cdb3134991b06a520cd53393a0",
            "688b2f7ce00d403cac2744ec7e9e57ea",
            "327c0e1215274948b228058650093009",
            "21135fd51e624e66976ad4b63a21c147",
            "d134be0234a449e09dcb7e6052e53874",
            "8e55a5d606ea455a87af4a5ede395c66",
            "c5b1830cd12b42d2bd0b53360777b84e",
            "1c74cbc5324941e0b79e45309733b061",
            "7f0a52b78bfb4983bd801c56d0033913"
          ]
        },
        "id": "SynnVlCfmYvI",
        "outputId": "426b4951-3e56-453f-e8e4-2f0480493492"
      },
      "source": [
        "# Tokenizer\n",
        "tokenizer=BertTokenizer.from_pretrained('bert-base-uncased',do_lower_case=True)"
      ],
      "execution_count": 50,
      "outputs": [
        {
          "output_type": "display_data",
          "data": {
            "application/vnd.jupyter.widget-view+json": {
              "model_id": "4981e4c68d384183963f082614c85384",
              "version_minor": 0,
              "version_major": 2
            },
            "text/plain": [
              "Downloading:   0%|          | 0.00/226k [00:00<?, ?B/s]"
            ]
          },
          "metadata": {}
        },
        {
          "output_type": "display_data",
          "data": {
            "application/vnd.jupyter.widget-view+json": {
              "model_id": "101026f165de44fb95c0eaaad390a09f",
              "version_minor": 0,
              "version_major": 2
            },
            "text/plain": [
              "Downloading:   0%|          | 0.00/28.0 [00:00<?, ?B/s]"
            ]
          },
          "metadata": {}
        },
        {
          "output_type": "display_data",
          "data": {
            "application/vnd.jupyter.widget-view+json": {
              "model_id": "a021d15a851941bbaebb916070897603",
              "version_minor": 0,
              "version_major": 2
            },
            "text/plain": [
              "Downloading:   0%|          | 0.00/455k [00:00<?, ?B/s]"
            ]
          },
          "metadata": {}
        },
        {
          "output_type": "display_data",
          "data": {
            "application/vnd.jupyter.widget-view+json": {
              "model_id": "2669d9facb644bcdac9b89863db2555c",
              "version_minor": 0,
              "version_major": 2
            },
            "text/plain": [
              "Downloading:   0%|          | 0.00/570 [00:00<?, ?B/s]"
            ]
          },
          "metadata": {}
        }
      ]
    },
    {
      "cell_type": "code",
      "metadata": {
        "colab": {
          "base_uri": "https://localhost:8080/"
        },
        "id": "i772-nAxmSMx",
        "outputId": "af82d139-8708-4ce3-f0a0-5ef1cbbe4e1e"
      },
      "source": [
        "# Tokenizer Example\n",
        "text = [\"What you need to know about using them safely amid the pandemic\", \n",
        "        \"A third of Medicare enrollees with coronavirus ended up in the hospital\"]\n",
        "outputs = tokenizer.batch_encode_plus(text, \n",
        "        return_tensors='tf',\n",
        "        add_special_tokens = True, # add [CLS], [SEP]\n",
        "        return_token_type_ids=True,\n",
        "        padding='max_length',\n",
        "        truncation='longest_first',\n",
        "        max_length=15\n",
        "      )\n",
        "print(\"Tokenizer Output:\",outputs)"
      ],
      "execution_count": 51,
      "outputs": [
        {
          "output_type": "stream",
          "name": "stdout",
          "text": [
            "Tokenizer Output: {'input_ids': <tf.Tensor: shape=(2, 15), dtype=int32, numpy=\n",
            "array([[  101,  2054,  2017,  2342,  2000,  2113,  2055,  2478,  2068,\n",
            "         9689, 13463,  1996,  6090,  3207,   102],\n",
            "       [  101,  1037,  2353,  1997, 27615, 25612, 10285,  2007, 21887,\n",
            "        23350,  3092,  2039,  1999,  1996,   102]], dtype=int32)>, 'token_type_ids': <tf.Tensor: shape=(2, 15), dtype=int32, numpy=\n",
            "array([[0, 0, 0, 0, 0, 0, 0, 0, 0, 0, 0, 0, 0, 0, 0],\n",
            "       [0, 0, 0, 0, 0, 0, 0, 0, 0, 0, 0, 0, 0, 0, 0]], dtype=int32)>, 'attention_mask': <tf.Tensor: shape=(2, 15), dtype=int32, numpy=\n",
            "array([[1, 1, 1, 1, 1, 1, 1, 1, 1, 1, 1, 1, 1, 1, 1],\n",
            "       [1, 1, 1, 1, 1, 1, 1, 1, 1, 1, 1, 1, 1, 1, 1]], dtype=int32)>}\n"
          ]
        }
      ]
    },
    {
      "cell_type": "code",
      "metadata": {
        "colab": {
          "base_uri": "https://localhost:8080/"
        },
        "id": "moXPhsNTmk-L",
        "outputId": "beae49df-6453-40ae-f7b2-bb892ff327f8"
      },
      "source": [
        "BATCH_SIZE = 8\n",
        "TRAIN_SHUFFLE_BUFFER_SIZE = len(train_x)\n",
        "VALIDATION_SHUFFLE_BUFFER_SIZE = len(validate_x)\n",
        "\n",
        "# Feature constraints\n",
        "sequence_length = 256\n",
        "\n",
        "# Tokenize train x\n",
        "train_x_processed = tokenizer.batch_encode_plus(\n",
        "        train_x,\n",
        "        return_tensors='tf',\n",
        "        add_special_tokens = True, # add [CLS], [SEP]\n",
        "        return_token_type_ids=True,\n",
        "        padding='max_length',\n",
        "        max_length=sequence_length,\n",
        "        return_attention_mask = True,\n",
        "        truncation='longest_first'\n",
        "    )\n",
        "\n",
        "# Tokenize validate x\n",
        "validate_x_processed = tokenizer.batch_encode_plus(\n",
        "        validate_x,\n",
        "        return_tensors='tf',\n",
        "        add_special_tokens = True, # add [CLS], [SEP]\n",
        "        return_token_type_ids=True,\n",
        "        padding='max_length',\n",
        "        max_length=sequence_length,\n",
        "        return_attention_mask = True,\n",
        "        truncation='longest_first'\n",
        "    )\n",
        "\n",
        "print(train_x_processed.keys())\n",
        "\n",
        "# Converts to y to binary class matrix (One-hot-encoded)\n",
        "train_processed_y = to_categorical(train_y, num_classes=num_classes, dtype='int32')\n",
        "validate_processed_y = to_categorical(validate_y, num_classes=num_classes, dtype='int32')\n",
        "\n",
        "# Create TF Dataset\n",
        "train_data = tf.data.Dataset.from_tensor_slices(((train_x_processed[\"input_ids\"],\n",
        "                                                  train_x_processed[\"token_type_ids\"],\n",
        "                                                  train_x_processed[\"attention_mask\"]), train_processed_y))\n",
        "validation_data = tf.data.Dataset.from_tensor_slices(((validate_x_processed[\"input_ids\"],\n",
        "                                                  validate_x_processed[\"token_type_ids\"],\n",
        "                                                  validate_x_processed[\"attention_mask\"]), validate_processed_y))\n",
        "\n",
        "#############\n",
        "# Train data\n",
        "#############\n",
        "train_data = train_data.shuffle(buffer_size=TRAIN_SHUFFLE_BUFFER_SIZE)\n",
        "train_data = train_data.batch(BATCH_SIZE)\n",
        "train_data = train_data.prefetch(buffer_size=AUTOTUNE)\n",
        "\n",
        "##################\n",
        "# Validation data\n",
        "##################\n",
        "validation_data = validation_data.shuffle(buffer_size=VALIDATION_SHUFFLE_BUFFER_SIZE)\n",
        "validation_data = validation_data.batch(BATCH_SIZE)\n",
        "validation_data = validation_data.prefetch(buffer_size=AUTOTUNE)\n",
        "\n",
        "print(\"train_data\",train_data)\n",
        "print(\"validation_data\",validation_data)"
      ],
      "execution_count": 58,
      "outputs": [
        {
          "output_type": "stream",
          "name": "stdout",
          "text": [
            "dict_keys(['input_ids', 'token_type_ids', 'attention_mask'])\n",
            "train_data <PrefetchDataset shapes: (((None, 256), (None, 256), (None, 256)), (None, 3)), types: ((tf.int32, tf.int32, tf.int32), tf.int32)>\n",
            "validation_data <PrefetchDataset shapes: (((None, 256), (None, 256), (None, 256)), (None, 3)), types: ((tf.int32, tf.int32, tf.int32), tf.int32)>\n"
          ]
        }
      ]
    },
    {
      "cell_type": "code",
      "metadata": {
        "id": "J0QcKjvXmpXP"
      },
      "source": [
        "def build_pretrained_bert(num_classes):\n",
        "  # Set the model name as\n",
        "  model_name = 'bert_pretrained'\n",
        "  model = TFBertForSequenceClassification.from_pretrained('bert-base-uncased', num_labels=num_classes,name=model_name)\n",
        "  model.layers[0].trainable=True\n",
        "  return model"
      ],
      "execution_count": 59,
      "outputs": []
    },
    {
      "cell_type": "code",
      "metadata": {
        "id": "EFTllS4JmvZC"
      },
      "source": [
        "# Create an experiment\n",
        "create_experiment()"
      ],
      "execution_count": 73,
      "outputs": []
    },
    {
      "cell_type": "code",
      "metadata": {
        "colab": {
          "base_uri": "https://localhost:8080/",
          "height": 1000
        },
        "id": "tJPtM4rCmsBc",
        "outputId": "e4333c3a-b0b3-432b-b865-9b76caaddf02"
      },
      "source": [
        "############################\n",
        "# Training Params\n",
        "############################\n",
        "learning_rate = 2e-5\n",
        "epochs = 10\n",
        "\n",
        "# Free up memory\n",
        "K.clear_session()\n",
        "\n",
        "# Build the model\n",
        "model = build_pretrained_bert(num_classes)\n",
        "\n",
        "# Print the model architecture\n",
        "print(model.summary())\n",
        "\n",
        "# Optimizer\n",
        "optimizer = keras.optimizers.Adam(learning_rate=learning_rate, epsilon=1e-08)\n",
        "# Loss\n",
        "loss = keras.losses.CategoricalCrossentropy(from_logits=True)\n",
        "\n",
        "# Compile\n",
        "model.compile(loss=loss,\n",
        "                  optimizer=optimizer,\n",
        "                  metrics=['accuracy'])\n",
        "\n",
        "# Train model\n",
        "start_time = time.time()\n",
        "training_results = model.fit(\n",
        "        train_data,\n",
        "        validation_data=validation_data,\n",
        "        epochs=epochs, \n",
        "        verbose=1)\n",
        "execution_time = (time.time() - start_time)/60.0\n",
        "print(\"Training execution time (mins)\",execution_time)\n",
        "\n",
        "evaluate_save_model(model,validation_data, training_results,execution_time, learning_rate, BATCH_SIZE, epochs, optimizer,save=True)"
      ],
      "execution_count": 74,
      "outputs": [
        {
          "output_type": "stream",
          "name": "stderr",
          "text": [
            "All model checkpoint layers were used when initializing TFBertForSequenceClassification.\n",
            "\n",
            "Some layers of TFBertForSequenceClassification were not initialized from the model checkpoint at bert-base-uncased and are newly initialized: ['classifier']\n",
            "You should probably TRAIN this model on a down-stream task to be able to use it for predictions and inference.\n"
          ]
        },
        {
          "output_type": "stream",
          "name": "stdout",
          "text": [
            "Model: \"bert_pretrained\"\n",
            "_________________________________________________________________\n",
            "Layer (type)                 Output Shape              Param #   \n",
            "=================================================================\n",
            "bert (TFBertMainLayer)       multiple                  109482240 \n",
            "_________________________________________________________________\n",
            "dropout_37 (Dropout)         multiple                  0         \n",
            "_________________________________________________________________\n",
            "classifier (Dense)           multiple                  2307      \n",
            "=================================================================\n",
            "Total params: 109,484,547\n",
            "Trainable params: 109,484,547\n",
            "Non-trainable params: 0\n",
            "_________________________________________________________________\n",
            "None\n",
            "Epoch 1/10\n",
            "158/158 [==============================] - 68s 320ms/step - loss: 0.8815 - accuracy: 0.5508 - val_loss: 0.6221 - val_accuracy: 0.7365\n",
            "Epoch 2/10\n",
            "158/158 [==============================] - 47s 299ms/step - loss: 0.4994 - accuracy: 0.7937 - val_loss: 0.5230 - val_accuracy: 0.7810\n",
            "Epoch 3/10\n",
            "158/158 [==============================] - 47s 300ms/step - loss: 0.3449 - accuracy: 0.8516 - val_loss: 0.5324 - val_accuracy: 0.7556\n",
            "Epoch 4/10\n",
            "158/158 [==============================] - 47s 300ms/step - loss: 0.2397 - accuracy: 0.9071 - val_loss: 0.5512 - val_accuracy: 0.7905\n",
            "Epoch 5/10\n",
            "158/158 [==============================] - 47s 300ms/step - loss: 0.1713 - accuracy: 0.9429 - val_loss: 0.7240 - val_accuracy: 0.7619\n",
            "Epoch 6/10\n",
            "158/158 [==============================] - 47s 299ms/step - loss: 0.1221 - accuracy: 0.9500 - val_loss: 0.6927 - val_accuracy: 0.7683\n",
            "Epoch 7/10\n",
            "158/158 [==============================] - 47s 300ms/step - loss: 0.0623 - accuracy: 0.9810 - val_loss: 0.8280 - val_accuracy: 0.7810\n",
            "Epoch 8/10\n",
            "158/158 [==============================] - 47s 299ms/step - loss: 0.0772 - accuracy: 0.9690 - val_loss: 0.8413 - val_accuracy: 0.7587\n",
            "Epoch 9/10\n",
            "158/158 [==============================] - 47s 299ms/step - loss: 0.0519 - accuracy: 0.9841 - val_loss: 0.9379 - val_accuracy: 0.7714\n",
            "Epoch 10/10\n",
            "158/158 [==============================] - 47s 299ms/step - loss: 0.0493 - accuracy: 0.9841 - val_loss: 0.9289 - val_accuracy: 0.7873\n",
            "Training execution time (mins) 8.238849258422851\n"
          ]
        },
        {
          "output_type": "display_data",
          "data": {
            "image/png": "[encoded data removed]",
            "text/plain": [
              "<Figure size 1080x360 with 2 Axes>"
            ]
          },
          "metadata": {
            "needs_background": "light"
          }
        },
        {
          "output_type": "stream",
          "name": "stdout",
          "text": [
            "40/40 [==============================] - 4s 102ms/step - loss: 0.9289 - accuracy: 0.7873\n",
            "[0.9289246797561646, 0.7873015999794006]\n"
          ]
        }
      ]
    },
    {
      "cell_type": "markdown",
      "metadata": {
        "id": "87sLj-8cpnS1"
      },
      "source": [
        "**Finetune** a language model using the the abstract texts provided (abstracts_train.txt & datasets/abstracts_validate.txt)."
      ]
    },
    {
      "cell_type": "code",
      "metadata": {
        "colab": {
          "base_uri": "https://localhost:8080/"
        },
        "id": "L7tbfPhtooav",
        "outputId": "ecba6b0c-7700-4e0a-818f-c02c26776ec6"
      },
      "source": [
        "models_metrics_list = glob(\"experiment_*/*_model_metrics.json\")\n",
        "models_metrics_list"
      ],
      "execution_count": 75,
      "outputs": [
        {
          "output_type": "execute_result",
          "data": {
            "text/plain": [
              "['experiment_1634160360/simple_fcn_emb_model_metrics.json',\n",
              " 'experiment_1634160854/conv1d_pretrained_emb_model_metrics.json',\n",
              " 'experiment_1634160606/conv1d_emb_model_metrics.json',\n",
              " 'experiment_1634160354/simple_fcn_model_metrics.json',\n",
              " 'experiment_1634162006/bert_pretrained_model_metrics.json',\n",
              " 'experiment_1634161476/bert_pretrained_model_metrics.json']"
            ]
          },
          "metadata": {},
          "execution_count": 75
        }
      ]
    },
    {
      "cell_type": "code",
      "metadata": {
        "colab": {
          "base_uri": "https://localhost:8080/",
          "height": 300
        },
        "id": "vR5d7gISofMp",
        "outputId": "ffd7451e-43ab-459d-d9aa-27aaaf2edd50"
      },
      "source": [
        "all_models_metrics = []\n",
        "for mm_file in models_metrics_list:\n",
        "  with open(mm_file) as json_file:\n",
        "    model_metrics = json.load(json_file)\n",
        "    all_models_metrics.append(model_metrics)\n",
        "\n",
        "# Load metrics to dataframe\n",
        "view_metrics = pd.DataFrame(data=all_models_metrics)\n",
        "\n",
        "# Format columns\n",
        "view_metrics['accuracy'] = view_metrics['accuracy']*100\n",
        "view_metrics['accuracy'] = view_metrics['accuracy'].map('{:,.2f}%'.format)\n",
        "\n",
        "view_metrics['trainable_parameters'] = view_metrics['trainable_parameters'].map('{:,.0f}'.format)\n",
        "view_metrics['execution_time'] = view_metrics['execution_time'].map('{:,.2f} mins'.format)\n",
        "view_metrics['loss'] = view_metrics['loss'].map('{:,.2f}'.format)\n",
        "view_metrics['model_size'] = view_metrics['model_size']/1000000\n",
        "view_metrics['model_size'] = view_metrics['model_size'].map('{:,.0f} MB'.format)\n",
        "\n",
        "# Filter columns\n",
        "view_metrics = view_metrics[[\"trainable_parameters\",\"execution_time\",\"loss\",\n",
        "                             \"accuracy\",\"model_size\",\"learning_rate\",\"epochs\",\"name\"]]\n",
        "view_metrics = view_metrics.sort_values(by=['accuracy'],ascending=False)\n",
        "view_metrics.head(10)"
      ],
      "execution_count": 76,
      "outputs": [
        {
          "output_type": "execute_result",
          "data": {
            "text/html": [
              "<div>\n",
              "<style scoped>\n",
              "    .dataframe tbody tr th:only-of-type {\n",
              "        vertical-align: middle;\n",
              "    }\n",
              "\n",
              "    .dataframe tbody tr th {\n",
              "        vertical-align: top;\n",
              "    }\n",
              "\n",
              "    .dataframe thead th {\n",
              "        text-align: right;\n",
              "    }\n",
              "</style>\n",
              "<table border=\"1\" class=\"dataframe\">\n",
              "  <thead>\n",
              "    <tr style=\"text-align: right;\">\n",
              "      <th></th>\n",
              "      <th>trainable_parameters</th>\n",
              "      <th>execution_time</th>\n",
              "      <th>loss</th>\n",
              "      <th>accuracy</th>\n",
              "      <th>model_size</th>\n",
              "      <th>learning_rate</th>\n",
              "      <th>epochs</th>\n",
              "      <th>name</th>\n",
              "    </tr>\n",
              "  </thead>\n",
              "  <tbody>\n",
              "    <tr>\n",
              "      <th>4</th>\n",
              "      <td>109,484,547</td>\n",
              "      <td>8.24 mins</td>\n",
              "      <td>0.93</td>\n",
              "      <td>78.73%</td>\n",
              "      <td>438 MB</td>\n",
              "      <td>0.00002</td>\n",
              "      <td>10</td>\n",
              "      <td>bert_pretrained</td>\n",
              "    </tr>\n",
              "    <tr>\n",
              "      <th>2</th>\n",
              "      <td>1,755,739</td>\n",
              "      <td>0.35 mins</td>\n",
              "      <td>1.09</td>\n",
              "      <td>75.87%</td>\n",
              "      <td>7 MB</td>\n",
              "      <td>0.01000</td>\n",
              "      <td>10</td>\n",
              "      <td>conv1d_emb</td>\n",
              "    </tr>\n",
              "    <tr>\n",
              "      <th>5</th>\n",
              "      <td>109,484,547</td>\n",
              "      <td>4.30 mins</td>\n",
              "      <td>0.59</td>\n",
              "      <td>75.56%</td>\n",
              "      <td>438 MB</td>\n",
              "      <td>0.00002</td>\n",
              "      <td>5</td>\n",
              "      <td>bert_pretrained</td>\n",
              "    </tr>\n",
              "    <tr>\n",
              "      <th>1</th>\n",
              "      <td>161,539</td>\n",
              "      <td>0.07 mins</td>\n",
              "      <td>1.06</td>\n",
              "      <td>73.33%</td>\n",
              "      <td>7 MB</td>\n",
              "      <td>0.01000</td>\n",
              "      <td>10</td>\n",
              "      <td>conv1d_pretrained_emb</td>\n",
              "    </tr>\n",
              "    <tr>\n",
              "      <th>0</th>\n",
              "      <td>206,921,563</td>\n",
              "      <td>0.24 mins</td>\n",
              "      <td>3.32</td>\n",
              "      <td>55.87%</td>\n",
              "      <td>828 MB</td>\n",
              "      <td>0.01000</td>\n",
              "      <td>10</td>\n",
              "      <td>simple_fcn_emb</td>\n",
              "    </tr>\n",
              "    <tr>\n",
              "      <th>3</th>\n",
              "      <td>3,887,619</td>\n",
              "      <td>0.08 mins</td>\n",
              "      <td>1.10</td>\n",
              "      <td>31.75%</td>\n",
              "      <td>16 MB</td>\n",
              "      <td>0.01000</td>\n",
              "      <td>10</td>\n",
              "      <td>simple_fcn</td>\n",
              "    </tr>\n",
              "  </tbody>\n",
              "</table>\n",
              "</div>"
            ],
            "text/plain": [
              "  trainable_parameters execution_time  ... epochs                   name\n",
              "4          109,484,547      8.24 mins  ...     10        bert_pretrained\n",
              "2            1,755,739      0.35 mins  ...     10             conv1d_emb\n",
              "5          109,484,547      4.30 mins  ...      5        bert_pretrained\n",
              "1              161,539      0.07 mins  ...     10  conv1d_pretrained_emb\n",
              "0          206,921,563      0.24 mins  ...     10         simple_fcn_emb\n",
              "3            3,887,619      0.08 mins  ...     10             simple_fcn\n",
              "\n",
              "[6 rows x 8 columns]"
            ]
          },
          "metadata": {},
          "execution_count": 76
        }
      ]
    },
    {
      "cell_type": "markdown",
      "metadata": {
        "id": "ZYd-weIIs4H_"
      },
      "source": [
        "## **<font color=\"#A41034\">Submit to Kaggle</font>**\n",
        "\n",
        "* Make predictions on test datasets\n",
        "* Prepare `submission.csv` file\n",
        "* Upload using the [Kaggle](https://www.kaggle.com/c/ac215-fall-2021/submit)"
      ]
    },
    {
      "cell_type": "code",
      "metadata": {
        "colab": {
          "base_uri": "https://localhost:8080/"
        },
        "id": "LRYPNlOjtIQV",
        "outputId": "43c9e263-ba75-417c-d117-16afb441e6cf"
      },
      "source": [
        "# Tokenize test x\n",
        "test_x_processed = tokenizer.batch_encode_plus(\n",
        "        test_x,\n",
        "        return_tensors='tf',\n",
        "        add_special_tokens = True, # add [CLS], [SEP]\n",
        "        return_token_type_ids=True,\n",
        "        padding='max_length',\n",
        "        max_length=sequence_length,\n",
        "        return_attention_mask = True,\n",
        "        truncation='longest_first'\n",
        "    )\n",
        "\n",
        "# Create TF Dataset\n",
        "test_data = tf.data.Dataset.from_tensor_slices(((test_x_processed[\"input_ids\"],\n",
        "                                                  test_x_processed[\"token_type_ids\"],\n",
        "                                                  test_x_processed[\"attention_mask\"])))\n",
        "\n",
        "test_data = test_data.batch(BATCH_SIZE)\n",
        "test_data = test_data.prefetch(buffer_size=AUTOTUNE)\n",
        "\n",
        "print(\"test_data\",test_data)\n",
        "# Make predictions\n",
        "print(\"test_data_length\", len(test_data))\n"
      ],
      "execution_count": 148,
      "outputs": [
        {
          "output_type": "stream",
          "name": "stdout",
          "text": [
            "test_data <TensorSliceDataset shapes: ((256,), (256,), (256,)), types: (tf.int32, tf.int32, tf.int32)>\n",
            "test_data_length 525\n"
          ]
        }
      ]
    },
    {
      "cell_type": "code",
      "metadata": {
        "id": "eVOU2Dkf3iCP"
      },
      "source": [
        "# Make predictions\n",
        "predictions = model.predict(test_data)\n",
        "predicted_class = predictions.logits.argmax(axis=1).astype(int)\n",
        "df = pd.DataFrame.from_dict({\"id\": [i for i in range(0,525)], \"target\": predicted_class})\n",
        "df.to_csv('submission.csv',index=False)"
      ],
      "execution_count": 166,
      "outputs": []
    },
    {
      "cell_type": "markdown",
      "metadata": {
        "id": "sOFldshPJ_k5"
      },
      "source": [
        "## **<font color=\"#A41034\">Kaggle Team Name</font>**"
      ]
    },
    {
      "cell_type": "markdown",
      "metadata": {
        "id": "6YJmj9w1KGRv"
      },
      "source": [
        "Please provide your **Team Name** to Kaggle that you used to make your submissions. "
      ]
    },
    {
      "cell_type": "markdown",
      "metadata": {
        "id": "GYEuBvex41eX"
      },
      "source": [
        "Orcas\n"
      ]
    },
    {
      "cell_type": "markdown",
      "metadata": {
        "id": "E0yGem2f-LYa"
      },
      "source": [
        "**Fine Tune**"
      ]
    },
    {
      "cell_type": "code",
      "metadata": {
        "id": "fZoo7ssm7pRl"
      },
      "source": [
        "file = open(\"./datasets/abstracts_train.txt\")\n",
        "file_contents = file.read()\n",
        "contents_split = file_contents.split(\"\\n\\n\")\n",
        "df_train = pd.DataFrame.from_dict({\"train_x\": contents_split})\n",
        "df_train.to_csv('abstracts_train.csv',index=False)"
      ],
      "execution_count": 183,
      "outputs": []
    },
    {
      "cell_type": "code",
      "metadata": {
        "id": "4tbcHwF18Fud"
      },
      "source": [
        "file = open(\"./datasets/abstracts_validate.txt\")\n",
        "file_contents = file.read()\n",
        "contents_split = file_contents.split(\"\\n\\n\")\n",
        "df_train = pd.DataFrame.from_dict({\"validate_x\": contents_split})\n",
        "df_train.to_csv('abstracts_validate.csv',index=False)"
      ],
      "execution_count": 185,
      "outputs": []
    },
    {
      "cell_type": "code",
      "metadata": {
        "colab": {
          "base_uri": "https://localhost:8080/"
        },
        "id": "GiiALBNe5qPT",
        "outputId": "80e1f6b7-2013-4dcd-c41f-b76c537b5454"
      },
      "source": [
        "! python ./finetune/run_mlm.py --model_name_or_path ./experiment_1634162006/bert_pretrained.h5 --output_dir ./output --train_file ./datasets/abstracts_train.csv --validation_file ./datasets/abstracts_validate.csv\n"
      ],
      "execution_count": 188,
      "outputs": [
        {
          "output_type": "stream",
          "name": "stdout",
          "text": [
            "2021-10-13 23:24:13.379060: I tensorflow/stream_executor/cuda/cuda_gpu_executor.cc:937] successful NUMA node read from SysFS had negative value (-1), but there must be at least one NUMA node, so returning NUMA node zero\n",
            "2021-10-13 23:24:13.388680: I tensorflow/stream_executor/cuda/cuda_gpu_executor.cc:937] successful NUMA node read from SysFS had negative value (-1), but there must be at least one NUMA node, so returning NUMA node zero\n",
            "2021-10-13 23:24:13.388978: I tensorflow/stream_executor/cuda/cuda_gpu_executor.cc:937] successful NUMA node read from SysFS had negative value (-1), but there must be at least one NUMA node, so returning NUMA node zero\n",
            "2021-10-13 23:24:13.390208: I tensorflow/stream_executor/cuda/cuda_gpu_executor.cc:937] successful NUMA node read from SysFS had negative value (-1), but there must be at least one NUMA node, so returning NUMA node zero\n",
            "2021-10-13 23:24:13.390506: I tensorflow/stream_executor/cuda/cuda_gpu_executor.cc:937] successful NUMA node read from SysFS had negative value (-1), but there must be at least one NUMA node, so returning NUMA node zero\n",
            "2021-10-13 23:24:13.390755: I tensorflow/stream_executor/cuda/cuda_gpu_executor.cc:937] successful NUMA node read from SysFS had negative value (-1), but there must be at least one NUMA node, so returning NUMA node zero\n",
            "Traceback (most recent call last):\n",
            "  File \"./finetune/run_mlm.py\", line 620, in <module>\n",
            "    main()\n",
            "  File \"./finetune/run_mlm.py\", line 297, in main\n",
            "    if isinstance(training_args.strategy, tf.distribute.TPUStrategy) and not data_args.pad_to_max_length:\n",
            "  File \"/usr/local/lib/python3.7/dist-packages/transformers/file_utils.py\", line 1775, in wrapper\n",
            "    return func(*args, **kwargs)\n",
            "  File \"/usr/local/lib/python3.7/dist-packages/transformers/training_args_tf.py\", line 249, in strategy\n",
            "    return self._setup_strategy\n",
            "  File \"/usr/local/lib/python3.7/dist-packages/transformers/file_utils.py\", line 1753, in __get__\n",
            "    cached = self.fget(obj)\n",
            "  File \"/usr/local/lib/python3.7/dist-packages/transformers/file_utils.py\", line 1775, in wrapper\n",
            "    return func(*args, **kwargs)\n",
            "  File \"/usr/local/lib/python3.7/dist-packages/transformers/training_args_tf.py\", line 234, in _setup_strategy\n",
            "    strategy = tf.distribute.OneDeviceStrategy(device=\"/gpu:0\")\n",
            "  File \"/usr/local/lib/python3.7/dist-packages/tensorflow/python/distribute/one_device_strategy.py\", line 79, in __init__\n",
            "    super(OneDeviceStrategy, self).__init__(OneDeviceExtended(self, device))\n",
            "  File \"/usr/local/lib/python3.7/dist-packages/tensorflow/python/distribute/one_device_strategy.py\", line 260, in __init__\n",
            "    self._device = device_util.resolve(device)\n",
            "  File \"/usr/local/lib/python3.7/dist-packages/tensorflow/python/distribute/device_util.py\", line 111, in resolve\n",
            "    return canonicalize(d, default=current())\n",
            "  File \"/usr/local/lib/python3.7/dist-packages/tensorflow/python/distribute/device_util.py\", line 64, in canonicalize\n",
            "    config.list_logical_devices(\"CPU\")[0].name)\n",
            "  File \"/usr/local/lib/python3.7/dist-packages/tensorflow/python/framework/config.py\", line 450, in list_logical_devices\n",
            "    return context.context().list_logical_devices(device_type=device_type)\n",
            "  File \"/usr/local/lib/python3.7/dist-packages/tensorflow/python/eager/context.py\", line 1415, in list_logical_devices\n",
            "    self.ensure_initialized()\n",
            "  File \"/usr/local/lib/python3.7/dist-packages/tensorflow/python/eager/context.py\", line 555, in ensure_initialized\n",
            "    context_handle = pywrap_tfe.TFE_NewContext(opts)\n",
            "tensorflow.python.framework.errors_impl.InternalError: CUDA runtime implicit initialization on GPU:0 failed. Status: out of memory\n"
          ]
        }
      ]
    },
    {
      "cell_type": "code",
      "metadata": {
        "id": "3vwAqApw96eR"
      },
      "source": [
        ""
      ],
      "execution_count": null,
      "outputs": []
    }
  ]
}