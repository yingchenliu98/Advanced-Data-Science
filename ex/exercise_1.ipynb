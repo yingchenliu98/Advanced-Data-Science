{
 "cells": [
  {
   "cell_type": "markdown",
   "metadata": {
    "id": "MfTh4bUzAmSX"
   },
   "source": [
    "<h1 style=\"padding-top: 25px;padding-bottom: 25px;text-align: left; padding-left: 10px; background-color: #DDDDDD; \n",
    "    color: black;\"> <img style=\"float: left; padding-right: 10px;\" src=\"https://raw.githubusercontent.com/Harvard-IACS/2018-CS109A/master/content/styles/iacs.png\" height=\"50px\"> <a href='https://harvard-iacs.github.io/2021-AC215/' target='_blank'><strong><font color=\"#A41034\">AC215: Advanced Practical Data Science, MLOps</font></strong></a></h1>\n",
    "\n",
    "# **<font color=\"#A41034\">Exercise 1 - Dask</font>**\n",
    "\n",
    "**Harvard University**<br/>\n",
    "**Fall 2021**<br/>\n",
    "**Instructor:**\n",
    "Pavlos Protopapas<br/>\n",
    "\n",
    "<hr style=\"height:2pt\">"
   ]
  },
  {
   "cell_type": "markdown",
   "metadata": {
    "id": "FgY9xWhgGdt8"
   },
   "source": [
    "## **<font color=\"#A41034\">Setup Notebook</font>**"
   ]
  },
  {
   "cell_type": "markdown",
   "metadata": {
    "id": "c-HGo-xOGr2t"
   },
   "source": [
    "**Copy & setup Colab**"
   ]
  },
  {
   "cell_type": "markdown",
   "metadata": {
    "id": "4qfXH3wYGtSa"
   },
   "source": [
    "1) Select \"File\" menu and pick \"Save a copy in Drive\""
   ]
  },
  {
   "cell_type": "markdown",
   "metadata": {
    "id": "TljsNDvO8mex"
   },
   "source": [
    "**Installs**"
   ]
  },
  {
   "cell_type": "code",
   "execution_count": 3,
   "metadata": {
    "colab": {
     "base_uri": "https://localhost:8080/"
    },
    "id": "OpB5zrQm8m8y",
    "outputId": "1af1ca3f-d483-48cc-eee4-93d24b4698a8"
   },
   "outputs": [
    {
     "name": "stdout",
     "output_type": "stream",
     "text": [
      "zsh:1: no matches found: dask[dataframe]\r\n"
     ]
    }
   ],
   "source": [
    "!pip install dask dask[dataframe] dask-image"
   ]
  },
  {
   "cell_type": "code",
   "execution_count": 1,
   "metadata": {
    "id": "CcI3tqLAdXYv"
   },
   "outputs": [],
   "source": []
  },
  {
   "cell_type": "markdown",
   "metadata": {
    "id": "xsHQIdyQHAkV"
   },
   "source": [
    "**Imports**"
   ]
  },
  {
   "cell_type": "code",
   "execution_count": 2,
   "metadata": {
    "id": "dB7OG0AQAlha"
   },
   "outputs": [],
   "source": [
    "import os\n",
    "import requests\n",
    "import zipfile\n",
    "import tarfile\n",
    "import shutil\n",
    "import math\n",
    "import json\n",
    "import time\n",
    "import sys\n",
    "import numpy as np\n",
    "import pandas as pd\n",
    "\n",
    "# Dask\n",
    "import dask\n",
    "import dask.dataframe as dd\n",
    "import dask.array as da\n",
    "from dask.diagnostics import ProgressBar"
   ]
  },
  {
   "cell_type": "markdown",
   "metadata": {
    "id": "6i3sZbohM2K_"
   },
   "source": [
    "**Utils**"
   ]
  },
  {
   "cell_type": "markdown",
   "metadata": {
    "id": "AIn5czLvM2sS"
   },
   "source": [
    "Here are some util functions that we will be using for this exercise"
   ]
  },
  {
   "cell_type": "code",
   "execution_count": 4,
   "metadata": {
    "id": "wm_puO9WSoq3"
   },
   "outputs": [],
   "source": [
    "def download_file(packet_url, base_path=\"\", extract=False, headers=None):\n",
    "  if base_path != \"\":\n",
    "    if not os.path.exists(base_path):\n",
    "      os.mkdir(base_path)\n",
    "  packet_file = os.path.basename(packet_url)\n",
    "  with requests.get(packet_url, stream=True, headers=headers) as r:\n",
    "      r.raise_for_status()\n",
    "      with open(os.path.join(base_path,packet_file), 'wb') as f:\n",
    "          for chunk in r.iter_content(chunk_size=8192):\n",
    "              f.write(chunk)\n",
    "  \n",
    "  if extract:\n",
    "    if packet_file.endswith(\".zip\"):\n",
    "      with zipfile.ZipFile(os.path.join(base_path,packet_file)) as zfile:\n",
    "        zfile.extractall(base_path)\n",
    "    else:\n",
    "      packet_name = packet_file.split('.')[0]\n",
    "      with tarfile.open(os.path.join(base_path,packet_file)) as tfile:\n",
    "        tfile.extractall(base_path)"
   ]
  },
  {
   "cell_type": "markdown",
   "metadata": {
    "id": "0S7SfN033avL"
   },
   "source": [
    "## **<font color=\"#A41034\">Dataset</font>**"
   ]
  },
  {
   "cell_type": "markdown",
   "metadata": {
    "id": "4XG4wAf13NTD"
   },
   "source": [
    "### **Load Data**"
   ]
  },
  {
   "cell_type": "code",
   "execution_count": 5,
   "metadata": {
    "colab": {
     "base_uri": "https://localhost:8080/"
    },
    "id": "yYcm05rgU7ts",
    "outputId": "f6faff6d-8078-425f-ee71-5e2d4a911b7e"
   },
   "outputs": [
    {
     "name": "stdout",
     "output_type": "stream",
     "text": [
      "Download execution time (mins) 1.0878633499145507\n"
     ]
    }
   ],
   "source": [
    "start_time = time.time()\n",
    "download_file(\"https://github.com/dlops-io/datasets/releases/download/v1.0/Parking_Violations_Issued_-_Fiscal_Year_2017.csv.zip\", base_path=\"datasets\", extract=True)\n",
    "execution_time = (time.time() - start_time)/60.0\n",
    "print(\"Download execution time (mins)\",execution_time)"
   ]
  },
  {
   "cell_type": "code",
   "execution_count": 6,
   "metadata": {
    "id": "zYyuvydtXTBC"
   },
   "outputs": [],
   "source": [
    "parking_violation_csv = os.path.join(\"datasets\",\"Parking_Violations_Issued_-_Fiscal_Year_2017.csv\")"
   ]
  },
  {
   "cell_type": "markdown",
   "metadata": {
    "id": "EUOQpHBwSCtO"
   },
   "source": [
    "## Q1: Compute Pi with a Slowly Converging Series\n",
    "\n",
    "Leibniz published one of the oldest known series in 1676.  While this is easy to understand and derive, it converges very slowly.\n",
    "https://en.wikipedia.org/wiki/Leibniz_formula_for_%CF%80 <br/>\n",
    "$$\\frac{\\pi}{4} = 1 - \\frac{1}{3} + \\frac{1}{5} - \\frac{1}{7} ...$$\n",
    "\n",
    "While this is a genuinely cruel way to compute the value of $\\pi$, it’s a fun opportunity to use brute force on a problem instead of thinking.\n",
    "Compute using at least four billion terms in this sequence. Compare your time taken with numpy and dask.  On my mac, with numpy this took 44 seconds and with dask it took 5.7 seconds. \n",
    "\n",
    "*Hint:* Use dask array"
   ]
  },
  {
   "cell_type": "markdown",
   "metadata": {
    "id": "-u_b1FUFVLua"
   },
   "source": [
    "**Checking  1e9 * 4  terms with numpy**\n",
    "\n",
    "If 1e9 * 4 fails, try 1e9 * 2 or increase memory "
   ]
  },
  {
   "cell_type": "code",
   "execution_count": 27,
   "metadata": {
    "colab": {
     "base_uri": "https://localhost:8080/"
    },
    "id": "zGVFfVBYWfXZ",
    "outputId": "986eb032-da92-4c91-d0c4-ab8670e6c206"
   },
   "outputs": [
    {
     "name": "stdout",
     "output_type": "stream",
     "text": [
      "executaion_time(S): 399.8725597858429\n"
     ]
    }
   ],
   "source": [
    "start_time = time.time()\n",
    "positive_terms = np.sum(1/np.arange(1, 1e9 * 8 , 4))\n",
    "negative_terms = np.sum(-1/np.arange(3, 1e9 * 8 , 4))\n",
    "pi_computed = (np.sum(positive_terms) + np.sum(negative_terms)) * 4\n",
    "execution_time = (time.time() - start_time)\n",
    "print('executaion_time(S):' , execution_time)\n"
   ]
  },
  {
   "cell_type": "code",
   "execution_count": 22,
   "metadata": {
    "colab": {
     "base_uri": "https://localhost:8080/"
    },
    "id": "njFT3a8n2Fp7",
    "outputId": "13d0af58-a881-4e55-af0f-d823982785ca"
   },
   "outputs": [
    {
     "data": {
      "text/plain": [
       "array([3.00000000e+00, 7.00000000e+00, 1.10000000e+01, ...,\n",
       "       3.99999999e+09, 4.00000000e+09, 4.00000000e+09])"
      ]
     },
     "execution_count": 22,
     "metadata": {},
     "output_type": "execute_result"
    }
   ],
   "source": [
    "np.arange(3, 1e9 * 4 , 4)"
   ]
  },
  {
   "cell_type": "code",
   "execution_count": 28,
   "metadata": {
    "colab": {
     "base_uri": "https://localhost:8080/"
    },
    "id": "Ic3QeXZ6VIGY",
    "outputId": "e9353060-47c8-4ac4-8470-8e8876c3bb90"
   },
   "outputs": [
    {
     "name": "stdout",
     "output_type": "stream",
     "text": [
      "Pi real value = 3.141592653590\n",
      "Pi computed value = 3.141592653339\n",
      "Error = 2.504e-10\n"
     ]
    }
   ],
   "source": [
    "# Error \n",
    "error = np.abs(pi_computed-np.pi)\n",
    "\n",
    "# Report Results\n",
    "print(f'Pi real value = {np.pi:14.12f}')\n",
    "print(f'Pi computed value = {pi_computed:14.12f}')\n",
    "print(f'Error = {error:6.3e}')"
   ]
  },
  {
   "cell_type": "markdown",
   "metadata": {
    "id": "xWEU_dHFVSsO"
   },
   "source": [
    "**Checking  1e9 * 4  terms with Dask**"
   ]
  },
  {
   "cell_type": "code",
   "execution_count": 29,
   "metadata": {
    "colab": {
     "base_uri": "https://localhost:8080/"
    },
    "id": "VcjKNmoHVTGJ",
    "outputId": "9716e15e-f3bd-40cc-f8cb-ace21d206cd6"
   },
   "outputs": [
    {
     "name": "stdout",
     "output_type": "stream",
     "text": [
      "19.281399965286255\n"
     ]
    }
   ],
   "source": [
    "# Your code here\n",
    "start_time = time.time()\n",
    "positive_sum = 1/da.arange(1, 1e9 * 8 , 4, chunks=1e7)\n",
    "negative_sum = -1/da.arange(3, 1e9 * 8 , 4, chunks=1e7)\n",
    "pi_computed = (da.sum(positive_sum) + da.sum(negative_sum)) * 4\n",
    "step3_pi = pi_computed.compute()\n",
    "execution_time = (time.time() - start_time)\n",
    "print(execution_time)"
   ]
  },
  {
   "cell_type": "code",
   "execution_count": 30,
   "metadata": {
    "colab": {
     "base_uri": "https://localhost:8080/"
    },
    "id": "5BobZYkLVTIq",
    "outputId": "88b188af-c440-4d1d-9293-e7a59b36681b"
   },
   "outputs": [
    {
     "name": "stdout",
     "output_type": "stream",
     "text": [
      "Pi real value = 3.141592653590\n",
      "Pi computed value = 3.141592653340\n",
      "Error = 2.500e-10\n"
     ]
    }
   ],
   "source": [
    "error = np.abs(step3_pi - np.pi)\n",
    "\n",
    "# Report Results\n",
    "print(f'Pi real value = {np.pi:14.12f}')\n",
    "print(f'Pi computed value = {step3_pi:14.12f}')\n",
    "print(f'Error = {error:6.3e}')"
   ]
  },
  {
   "cell_type": "markdown",
   "metadata": {
    "id": "2elAV0rjVaB2"
   },
   "source": [
    "## Filter Parking Tickets Dataset\n",
    "\n",
    "According to the parking tickets data set documentation, the column called ‘Plate Type’ consists mainly of two different types, ‘PAS’ and ‘COM’; presumably for passenger and commercial vehicles, respectively. Maybe the rest are the famous parking tickets from the UN diplomats, who take advantage of diplomatic immunity not to pay their fines.\n",
    "\n",
    "Create a filtered Dask DataFrame with only the commercial plates.\n",
    "Persist it, so it is available in memory for future computations. Count the number of summonses in 2017 (i.e., Issue Year in 2016, 2017) issued to commercial plate types. Compute them as a percentage of the total data set. \n",
    "\n",
    "*Hint*: This is easy; it is only about 5-7 lines of code."
   ]
  },
  {
   "cell_type": "code",
   "execution_count": 19,
   "metadata": {
    "colab": {
     "base_uri": "https://localhost:8080/",
     "height": 445
    },
    "id": "_5gQx0DRVagl",
    "outputId": "3d30f9de-f3b5-4fbb-fd3b-b9303912d4ab"
   },
   "outputs": [
    {
     "data": {
      "text/html": [
       "<div>\n",
       "<style scoped>\n",
       "    .dataframe tbody tr th:only-of-type {\n",
       "        vertical-align: middle;\n",
       "    }\n",
       "\n",
       "    .dataframe tbody tr th {\n",
       "        vertical-align: top;\n",
       "    }\n",
       "\n",
       "    .dataframe thead th {\n",
       "        text-align: right;\n",
       "    }\n",
       "</style>\n",
       "<table border=\"1\" class=\"dataframe\">\n",
       "  <thead>\n",
       "    <tr style=\"text-align: right;\">\n",
       "      <th></th>\n",
       "      <th>Summons Number</th>\n",
       "      <th>Plate ID</th>\n",
       "      <th>Registration State</th>\n",
       "      <th>Plate Type</th>\n",
       "      <th>Issue Date</th>\n",
       "      <th>Violation Code</th>\n",
       "      <th>Vehicle Body Type</th>\n",
       "      <th>Vehicle Make</th>\n",
       "      <th>Issuing Agency</th>\n",
       "      <th>Street Code1</th>\n",
       "      <th>...</th>\n",
       "      <th>Vehicle Color</th>\n",
       "      <th>Unregistered Vehicle?</th>\n",
       "      <th>Vehicle Year</th>\n",
       "      <th>Meter Number</th>\n",
       "      <th>Feet From Curb</th>\n",
       "      <th>Violation Post Code</th>\n",
       "      <th>Violation Description</th>\n",
       "      <th>No Standing or Stopping Violation</th>\n",
       "      <th>Hydrant Violation</th>\n",
       "      <th>Double Parking Violation</th>\n",
       "    </tr>\n",
       "  </thead>\n",
       "  <tbody>\n",
       "    <tr>\n",
       "      <th>0</th>\n",
       "      <td>5092469481</td>\n",
       "      <td>GZH7067</td>\n",
       "      <td>NY</td>\n",
       "      <td>PAS</td>\n",
       "      <td>07/10/2016</td>\n",
       "      <td>7</td>\n",
       "      <td>SUBN</td>\n",
       "      <td>TOYOT</td>\n",
       "      <td>V</td>\n",
       "      <td>0</td>\n",
       "      <td>...</td>\n",
       "      <td>GY</td>\n",
       "      <td>NaN</td>\n",
       "      <td>2001</td>\n",
       "      <td>NaN</td>\n",
       "      <td>0</td>\n",
       "      <td>NaN</td>\n",
       "      <td>FAILURE TO STOP AT RED LIGHT</td>\n",
       "      <td>NaN</td>\n",
       "      <td>NaN</td>\n",
       "      <td>NaN</td>\n",
       "    </tr>\n",
       "    <tr>\n",
       "      <th>1</th>\n",
       "      <td>5092451658</td>\n",
       "      <td>GZH7067</td>\n",
       "      <td>NY</td>\n",
       "      <td>PAS</td>\n",
       "      <td>07/08/2016</td>\n",
       "      <td>7</td>\n",
       "      <td>SUBN</td>\n",
       "      <td>TOYOT</td>\n",
       "      <td>V</td>\n",
       "      <td>0</td>\n",
       "      <td>...</td>\n",
       "      <td>GY</td>\n",
       "      <td>NaN</td>\n",
       "      <td>2001</td>\n",
       "      <td>NaN</td>\n",
       "      <td>0</td>\n",
       "      <td>NaN</td>\n",
       "      <td>FAILURE TO STOP AT RED LIGHT</td>\n",
       "      <td>NaN</td>\n",
       "      <td>NaN</td>\n",
       "      <td>NaN</td>\n",
       "    </tr>\n",
       "    <tr>\n",
       "      <th>2</th>\n",
       "      <td>4006265037</td>\n",
       "      <td>FZX9232</td>\n",
       "      <td>NY</td>\n",
       "      <td>PAS</td>\n",
       "      <td>08/23/2016</td>\n",
       "      <td>5</td>\n",
       "      <td>SUBN</td>\n",
       "      <td>FORD</td>\n",
       "      <td>V</td>\n",
       "      <td>0</td>\n",
       "      <td>...</td>\n",
       "      <td>BK</td>\n",
       "      <td>NaN</td>\n",
       "      <td>2004</td>\n",
       "      <td>NaN</td>\n",
       "      <td>0</td>\n",
       "      <td>NaN</td>\n",
       "      <td>BUS LANE VIOLATION</td>\n",
       "      <td>NaN</td>\n",
       "      <td>NaN</td>\n",
       "      <td>NaN</td>\n",
       "    </tr>\n",
       "    <tr>\n",
       "      <th>3</th>\n",
       "      <td>8478629828</td>\n",
       "      <td>66623ME</td>\n",
       "      <td>NY</td>\n",
       "      <td>COM</td>\n",
       "      <td>06/14/2017</td>\n",
       "      <td>47</td>\n",
       "      <td>REFG</td>\n",
       "      <td>MITSU</td>\n",
       "      <td>T</td>\n",
       "      <td>10610</td>\n",
       "      <td>...</td>\n",
       "      <td>WH</td>\n",
       "      <td>NaN</td>\n",
       "      <td>2007</td>\n",
       "      <td>NaN</td>\n",
       "      <td>0</td>\n",
       "      <td>04</td>\n",
       "      <td>47-Double PKG-Midtown</td>\n",
       "      <td>NaN</td>\n",
       "      <td>NaN</td>\n",
       "      <td>NaN</td>\n",
       "    </tr>\n",
       "    <tr>\n",
       "      <th>4</th>\n",
       "      <td>7868300310</td>\n",
       "      <td>37033JV</td>\n",
       "      <td>NY</td>\n",
       "      <td>COM</td>\n",
       "      <td>11/21/2016</td>\n",
       "      <td>69</td>\n",
       "      <td>DELV</td>\n",
       "      <td>INTER</td>\n",
       "      <td>T</td>\n",
       "      <td>10510</td>\n",
       "      <td>...</td>\n",
       "      <td>WHITE</td>\n",
       "      <td>NaN</td>\n",
       "      <td>2007</td>\n",
       "      <td>NaN</td>\n",
       "      <td>0</td>\n",
       "      <td>31 6</td>\n",
       "      <td>69-Failure to Disp Muni Recpt</td>\n",
       "      <td>NaN</td>\n",
       "      <td>NaN</td>\n",
       "      <td>NaN</td>\n",
       "    </tr>\n",
       "  </tbody>\n",
       "</table>\n",
       "<p>5 rows × 43 columns</p>\n",
       "</div>"
      ],
      "text/plain": [
       "   Summons Number Plate ID Registration State Plate Type  Issue Date  \\\n",
       "0      5092469481  GZH7067                 NY        PAS  07/10/2016   \n",
       "1      5092451658  GZH7067                 NY        PAS  07/08/2016   \n",
       "2      4006265037  FZX9232                 NY        PAS  08/23/2016   \n",
       "3      8478629828  66623ME                 NY        COM  06/14/2017   \n",
       "4      7868300310  37033JV                 NY        COM  11/21/2016   \n",
       "\n",
       "   Violation Code Vehicle Body Type Vehicle Make Issuing Agency  Street Code1  \\\n",
       "0               7              SUBN        TOYOT              V             0   \n",
       "1               7              SUBN        TOYOT              V             0   \n",
       "2               5              SUBN         FORD              V             0   \n",
       "3              47              REFG        MITSU              T         10610   \n",
       "4              69              DELV        INTER              T         10510   \n",
       "\n",
       "   ...  Vehicle Color  Unregistered Vehicle?  Vehicle Year  Meter Number  \\\n",
       "0  ...             GY                    NaN          2001           NaN   \n",
       "1  ...             GY                    NaN          2001           NaN   \n",
       "2  ...             BK                    NaN          2004           NaN   \n",
       "3  ...             WH                    NaN          2007           NaN   \n",
       "4  ...          WHITE                    NaN          2007           NaN   \n",
       "\n",
       "   Feet From Curb  Violation Post Code          Violation Description  \\\n",
       "0               0                  NaN   FAILURE TO STOP AT RED LIGHT   \n",
       "1               0                  NaN   FAILURE TO STOP AT RED LIGHT   \n",
       "2               0                  NaN             BUS LANE VIOLATION   \n",
       "3               0                   04          47-Double PKG-Midtown   \n",
       "4               0                 31 6  69-Failure to Disp Muni Recpt   \n",
       "\n",
       "  No Standing or Stopping Violation Hydrant Violation Double Parking Violation  \n",
       "0                               NaN               NaN                      NaN  \n",
       "1                               NaN               NaN                      NaN  \n",
       "2                               NaN               NaN                      NaN  \n",
       "3                               NaN               NaN                      NaN  \n",
       "4                               NaN               NaN                      NaN  \n",
       "\n",
       "[5 rows x 43 columns]"
      ]
     },
     "execution_count": 19,
     "metadata": {},
     "output_type": "execute_result"
    }
   ],
   "source": [
    "dict_1 = {'Summons Number': 'int64', 'Plate ID': 'object', 'Registration State': 'object', 'Plate Type': 'object',\n",
    " 'Issue Date': 'object', 'Violation Code': 'int64', 'Vehicle Body Type': 'object', 'Vehicle Make': 'object',\n",
    " 'Issuing Agency': 'object', 'Street Code1': 'int64', 'Street Code2': 'int64', 'Street Code3': 'int64',\n",
    " 'Vehicle Expiration Date': 'int64', 'Violation Location': 'float64', 'Violation Precinct': 'int64', 'Issuer Precinct': 'int64',\n",
    " 'Issuer Code': 'int64', 'Issuer Command': 'object', 'Issuer Squad': 'object', 'Violation Time': 'object',\n",
    " 'Time First Observed': 'object', 'Violation County': 'object', 'Violation In Front Of Or Opposite': 'object', 'House Number': 'object',\n",
    " 'Street Name': 'object', 'Intersecting Street': 'object', 'Date First Observed': 'int64', 'Law Section': 'int64',\n",
    " 'Sub Division': 'object', 'Violation Legal Code': 'object', 'Days Parking In Effect    ': 'object', 'From Hours In Effect': 'object',\n",
    " 'To Hours In Effect': 'object', 'Vehicle Color': 'object', 'Unregistered Vehicle?': 'float64', 'Vehicle Year': 'int64',\n",
    " 'Meter Number': 'object', 'Feet From Curb': 'int64', 'Violation Post Code': 'object', 'Violation Description': 'object',\n",
    " 'No Standing or Stopping Violation': 'float64', 'Hydrant Violation': 'float64', 'Double Parking Violation': 'float64'}\n",
    "\n",
    "# This is to avoid the  DtypeWarning \n",
    "df = dd.read_csv(parking_violation_csv,  dtype=dict_1)\n",
    "df.head()"
   ]
  },
  {
   "cell_type": "code",
   "execution_count": 23,
   "metadata": {
    "id": "XqR1v5OZVajU"
   },
   "outputs": [],
   "source": [
    "# Your code here\n",
    "# Create a filtered Dask DataFrame with only the commercial plates.\n",
    "df_filtered = df[df['Plate Type']=='COM']\n",
    "# Persist it, so it is available in memory for future computations. \n",
    "df_filtered = df_filtered.persist()\n",
    "df_2017 = df[df['Issue Date'].str.contains('2017')]\n",
    "\n",
    "# df with number of summonses in 2017 (i.e., Issue Year in 2016, 2017) \n",
    "summonses_value_df = df_filtered[df_filtered['Issue Date'].str.contains('2017')]\n",
    "\n",
    "# after reorganizing dataframe in one partition, check number of summonses\n",
    "summonses_value_df_reduced =  summonses_value_df.repartition(npartitions=1)\n",
    "num_commercial_2017 = summonses_value_df_reduced.map_partitions(len).compute()\n",
    "\n",
    "#compute them as a percentage of the total data set\n",
    "df_size = df_2017.index.size\n",
    "pct_commercial = ((num_commercial_2017/df_size)*100)\n",
    "num_commercial_2017 = int(num_commercial_2017)\n",
    "pct_commercial = float(pct_commercial)"
   ]
  },
  {
   "cell_type": "code",
   "execution_count": 24,
   "metadata": {
    "colab": {
     "base_uri": "https://localhost:8080/"
    },
    "id": "Mdvcd_pkVpWe",
    "outputId": "2b16774d-4222-4d07-daef-611558d152df"
   },
   "outputs": [
    {
     "name": "stdout",
     "output_type": "stream",
     "text": [
      "Number of NYC summonses with commercial plates in 2017 was 946620\n",
      "Percentage 17.43\n"
     ]
    }
   ],
   "source": [
    "# Percentage relative to all the parking tickets in 2017\n",
    "print(f'Number of NYC summonses with commercial plates in 2017 was {num_commercial_2017}')\n",
    "print(f'Percentage {pct_commercial:5.2f}')"
   ]
  },
  {
   "cell_type": "code",
   "execution_count": 12,
   "metadata": {
    "id": "ARXOpSUNefFP"
   },
   "outputs": [],
   "source": []
  }
 ],
 "metadata": {
  "colab": {
   "collapsed_sections": [],
   "name": "exercise_1.ipynb",
   "provenance": []
  },
  "interpreter": {
   "hash": "40515f85088ba8b94f7ec59dd5e2b5af3c31302588b7cfece8aa6dc287768ae7"
  },
  "kernelspec": {
   "display_name": "Python 3",
   "language": "python",
   "name": "python3"
  },
  "language_info": {
   "codemirror_mode": {
    "name": "ipython",
    "version": 3
   },
   "file_extension": ".py",
   "mimetype": "text/x-python",
   "name": "python",
   "nbconvert_exporter": "python",
   "pygments_lexer": "ipython3",
   "version": "3.8.3"
  }
 },
 "nbformat": 4,
 "nbformat_minor": 1
}
